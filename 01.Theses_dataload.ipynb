{
 "cells": [
  {
   "cell_type": "code",
   "execution_count": 4,
   "id": "b9b2d2f0",
   "metadata": {},
   "outputs": [
    {
     "name": "stderr",
     "output_type": "stream",
     "text": [
      "Downloading...\n",
      "From (original): https://drive.google.com/uc?id=1-3s2tj7580VL_qgpMS0oUq6IL2qngg3l\n",
      "From (redirected): https://drive.google.com/uc?id=1-3s2tj7580VL_qgpMS0oUq6IL2qngg3l&confirm=t&uuid=ae457754-3040-4f99-8892-f64be97c1bd9\n",
      "To: /Users/mike/OFFLINEX4_rad031DA.tmpPBWEBHOST437663.62.json\n",
      "100%|██████████████████████████████████████| 8.50G/8.50G [12:38<00:00, 11.2MB/s]\n"
     ]
    },
    {
     "data": {
      "text/plain": [
       "'OFFLINEX4_rad031DA.tmpPBWEBHOST437663.62.json'"
      ]
     },
     "execution_count": 4,
     "metadata": {},
     "output_type": "execute_result"
    }
   ],
   "source": [
    "\n",
    "file_id = \"1-3s2tj7580VL_qgpMS0oUq6IL2qngg3l\"\n",
    "destination = \"OFFLINEX4_rad031DA.tmpPBWEBHOST437663.62.json\"\n",
    "\n",
    "gdown.download(f\"https://drive.google.com/uc?id={file_id}\", destination, quiet=False)"
   ]
  },
  {
   "cell_type": "code",
   "execution_count": 3,
   "id": "84bc230c",
   "metadata": {},
   "outputs": [],
   "source": [
    "import json\n",
    "import pandas as pd\n",
    "import os"
   ]
  },
  {
   "cell_type": "code",
   "execution_count": 5,
   "id": "45ff403d",
   "metadata": {},
   "outputs": [],
   "source": [
    "file_id = \"OFFLINEX4_rad031DA.tmpPBWEBHOST437663.62.json\""
   ]
  },
  {
   "cell_type": "code",
   "execution_count": 7,
   "id": "bf85e324-e027-4bc0-81d1-16f2a0fd5cd2",
   "metadata": {},
   "outputs": [
    {
     "name": "stdout",
     "output_type": "stream",
     "text": [
      "Saved: patent_chunk_0.csv\n",
      "Saved: patent_chunk_1.csv\n",
      "Saved: patent_chunk_2.csv\n",
      "Saved: patent_chunk_3.csv\n",
      "Saved: patent_chunk_4.csv\n",
      "Saved: patent_chunk_5.csv\n",
      "Saved: patent_chunk_6.csv\n",
      "Saved: patent_chunk_7.csv\n",
      "Saved: patent_chunk_8.csv\n",
      "Saved: patent_chunk_9.csv\n",
      "Saved: patent_chunk_10.csv\n",
      "Saved: patent_chunk_11.csv\n",
      "Saved: patent_chunk_12.csv\n",
      "Saved: patent_chunk_13.csv\n",
      "Saved: patent_chunk_14.csv\n",
      "Saved: patent_chunk_15.csv\n"
     ]
    }
   ],
   "source": [
    "# Opening JSON file in streaming mode\n",
    "with open(file_id, \"r\", encoding=\"utf-8\") as file:\n",
    "    data = json.load(file)\n",
    "\n",
    "# Extract records and process in chunks\n",
    "patents = data.get(\"Records\", [])\n",
    "\n",
    "chunk_size = 5000 \n",
    "\n",
    "for i in range(0, len(patents), chunk_size):\n",
    "    chunk = patents[i : i + chunk_size]\n",
    "    df_chunk = pd.DataFrame(chunk)\n",
    "    \n",
    "    chunk_file = f\"patent_chunk_{i//chunk_size}.csv\"\n",
    "    df_chunk.to_csv(chunk_file, index=False)\n",
    "    \n",
    "    print(f\"Saved: {chunk_file}\")\n"
   ]
  }
 ],
 "metadata": {
  "kernelspec": {
   "display_name": "Python [conda env:base] *",
   "language": "python",
   "name": "conda-base-py"
  },
  "language_info": {
   "codemirror_mode": {
    "name": "ipython",
    "version": 3
   },
   "file_extension": ".py",
   "mimetype": "text/x-python",
   "name": "python",
   "nbconvert_exporter": "python",
   "pygments_lexer": "ipython3",
   "version": "3.11.4"
  }
 },
 "nbformat": 4,
 "nbformat_minor": 5
}
