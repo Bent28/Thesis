{
  "nbformat": 4,
  "nbformat_minor": 0,
  "metadata": {
    "colab": {
      "provenance": []
    },
    "kernelspec": {
      "name": "python3",
      "display_name": "Python 3"
    },
    "language_info": {
      "name": "python"
    }
  },
  "cells": [
    {
      "cell_type": "markdown",
      "source": [
        "## **Instal packages & data path**"
      ],
      "metadata": {
        "id": "WQkWSqRzMEXg"
      }
    },
    {
      "cell_type": "code",
      "execution_count": 119,
      "metadata": {
        "colab": {
          "base_uri": "https://localhost:8080/"
        },
        "id": "vqwh3h5GhzA8",
        "outputId": "b630e646-0591-42fd-bf92-0f055cc56357"
      },
      "outputs": [
        {
          "output_type": "stream",
          "name": "stdout",
          "text": [
            "Drive already mounted at /content/drive; to attempt to forcibly remount, call drive.mount(\"/content/drive\", force_remount=True).\n"
          ]
        }
      ],
      "source": [
        "from google.colab import drive\n",
        "drive.mount('/content/drive')"
      ]
    },
    {
      "cell_type": "code",
      "source": [
        "!pip install scienceplots"
      ],
      "metadata": {
        "colab": {
          "base_uri": "https://localhost:8080/"
        },
        "id": "4kD4rqGVC8nO",
        "outputId": "3f74148d-99a7-4a12-c6ab-6dfa53b36591"
      },
      "execution_count": 120,
      "outputs": [
        {
          "output_type": "stream",
          "name": "stdout",
          "text": [
            "Requirement already satisfied: scienceplots in /usr/local/lib/python3.11/dist-packages (2.1.1)\n",
            "Requirement already satisfied: matplotlib in /usr/local/lib/python3.11/dist-packages (from scienceplots) (3.10.0)\n",
            "Requirement already satisfied: contourpy>=1.0.1 in /usr/local/lib/python3.11/dist-packages (from matplotlib->scienceplots) (1.3.1)\n",
            "Requirement already satisfied: cycler>=0.10 in /usr/local/lib/python3.11/dist-packages (from matplotlib->scienceplots) (0.12.1)\n",
            "Requirement already satisfied: fonttools>=4.22.0 in /usr/local/lib/python3.11/dist-packages (from matplotlib->scienceplots) (4.56.0)\n",
            "Requirement already satisfied: kiwisolver>=1.3.1 in /usr/local/lib/python3.11/dist-packages (from matplotlib->scienceplots) (1.4.8)\n",
            "Requirement already satisfied: numpy>=1.23 in /usr/local/lib/python3.11/dist-packages (from matplotlib->scienceplots) (1.26.4)\n",
            "Requirement already satisfied: packaging>=20.0 in /usr/local/lib/python3.11/dist-packages (from matplotlib->scienceplots) (24.2)\n",
            "Requirement already satisfied: pillow>=8 in /usr/local/lib/python3.11/dist-packages (from matplotlib->scienceplots) (11.1.0)\n",
            "Requirement already satisfied: pyparsing>=2.3.1 in /usr/local/lib/python3.11/dist-packages (from matplotlib->scienceplots) (3.2.1)\n",
            "Requirement already satisfied: python-dateutil>=2.7 in /usr/local/lib/python3.11/dist-packages (from matplotlib->scienceplots) (2.8.2)\n",
            "Requirement already satisfied: six>=1.5 in /usr/local/lib/python3.11/dist-packages (from python-dateutil>=2.7->matplotlib->scienceplots) (1.17.0)\n"
          ]
        }
      ]
    },
    {
      "cell_type": "code",
      "source": [
        "import matplotlib.pyplot as plt\n",
        "import seaborn as sns\n",
        "import scienceplots\n",
        "plt.style.use(['science','no-latex'])\n",
        "plt.rcParams[\"figure.figsize\"] = (6, 5)\n",
        "sns.color_palette(\"muted\")"
      ],
      "metadata": {
        "colab": {
          "base_uri": "https://localhost:8080/",
          "height": 76
        },
        "id": "RdViNkwDC_MZ",
        "outputId": "7bdbd675-b8d6-4989-9772-faaf7182df16"
      },
      "execution_count": 121,
      "outputs": [
        {
          "output_type": "execute_result",
          "data": {
            "text/plain": [
              "[(0.2823529411764706, 0.47058823529411764, 0.8156862745098039),\n",
              " (0.9333333333333333, 0.5215686274509804, 0.2901960784313726),\n",
              " (0.41568627450980394, 0.8, 0.39215686274509803),\n",
              " (0.8392156862745098, 0.37254901960784315, 0.37254901960784315),\n",
              " (0.5843137254901961, 0.4235294117647059, 0.7058823529411765),\n",
              " (0.5490196078431373, 0.3803921568627451, 0.23529411764705882),\n",
              " (0.8627450980392157, 0.49411764705882355, 0.7529411764705882),\n",
              " (0.4745098039215686, 0.4745098039215686, 0.4745098039215686),\n",
              " (0.8352941176470589, 0.7333333333333333, 0.403921568627451),\n",
              " (0.5098039215686274, 0.7764705882352941, 0.8862745098039215)]"
            ],
            "text/html": [
              "<svg  width=\"550\" height=\"55\"><rect x=\"0\" y=\"0\" width=\"55\" height=\"55\" style=\"fill:#4878d0;stroke-width:2;stroke:rgb(255,255,255)\"/><rect x=\"55\" y=\"0\" width=\"55\" height=\"55\" style=\"fill:#ee854a;stroke-width:2;stroke:rgb(255,255,255)\"/><rect x=\"110\" y=\"0\" width=\"55\" height=\"55\" style=\"fill:#6acc64;stroke-width:2;stroke:rgb(255,255,255)\"/><rect x=\"165\" y=\"0\" width=\"55\" height=\"55\" style=\"fill:#d65f5f;stroke-width:2;stroke:rgb(255,255,255)\"/><rect x=\"220\" y=\"0\" width=\"55\" height=\"55\" style=\"fill:#956cb4;stroke-width:2;stroke:rgb(255,255,255)\"/><rect x=\"275\" y=\"0\" width=\"55\" height=\"55\" style=\"fill:#8c613c;stroke-width:2;stroke:rgb(255,255,255)\"/><rect x=\"330\" y=\"0\" width=\"55\" height=\"55\" style=\"fill:#dc7ec0;stroke-width:2;stroke:rgb(255,255,255)\"/><rect x=\"385\" y=\"0\" width=\"55\" height=\"55\" style=\"fill:#797979;stroke-width:2;stroke:rgb(255,255,255)\"/><rect x=\"440\" y=\"0\" width=\"55\" height=\"55\" style=\"fill:#d5bb67;stroke-width:2;stroke:rgb(255,255,255)\"/><rect x=\"495\" y=\"0\" width=\"55\" height=\"55\" style=\"fill:#82c6e2;stroke-width:2;stroke:rgb(255,255,255)\"/></svg>"
            ]
          },
          "metadata": {},
          "execution_count": 121
        }
      ]
    },
    {
      "cell_type": "code",
      "source": [
        "import pandas as pd\n",
        "import numpy as np\n",
        "import re\n",
        "import ast\n",
        "import os\n",
        "import glob"
      ],
      "metadata": {
        "id": "USrHJCNCi1B6"
      },
      "execution_count": 122,
      "outputs": []
    },
    {
      "cell_type": "code",
      "source": [
        "folder_path = \"/content/drive/MyDrive/Theses/patent_chunks\""
      ],
      "metadata": {
        "id": "KZY5Tk8g1fPE"
      },
      "execution_count": 123,
      "outputs": []
    },
    {
      "cell_type": "markdown",
      "source": [
        "## **Loading data & Text cleaning**"
      ],
      "metadata": {
        "id": "S3gA-IWTMUh_"
      }
    },
    {
      "cell_type": "code",
      "source": [
        "# text cleaning function\n",
        "def clean_text(text):\n",
        "    try:\n",
        "        data = ast.literal_eval(text)\n",
        "        if isinstance(data, dict) and \"Texts\" in data:\n",
        "            for item in data[\"Texts\"]:\n",
        "                if item.get(\"lang\") == \"en\":\n",
        "                    clean_text = item.get(\"text\", \"\").strip()\n",
        "                    clean_text = re.sub(r\"<[^>]+>\", \" \", clean_text)\n",
        "                    clean_text = re.sub(r\"\\s+\", \" \", clean_text).strip()\n",
        "                    clean_text = clean_text.lower()\n",
        "                    clean_text = re.sub(r\"[^a-z\\s.,;:!?()\\\"'-]\", \"\", clean_text)\n",
        "                    clean_text = re.sub(r\"(\\s*[.,;:!?()\\\"'-]\\s*){2,}\", r\" \\1\", clean_text)\n",
        "                    return clean_text\n",
        "    except (ValueError, SyntaxError):\n",
        "        pass\n",
        "    return text"
      ],
      "metadata": {
        "id": "qgXzp7JH0Wsl"
      },
      "execution_count": 124,
      "outputs": []
    },
    {
      "cell_type": "code",
      "source": [
        "dataframes = []\n",
        "file_paths = glob.glob(os.path.join(folder_path, \"patent_chunk_*.csv\"))\n",
        "\n",
        "# File loop\n",
        "for file_path in file_paths:\n",
        "    if os.path.exists(file_path):\n",
        "        df = pd.read_csv(file_path)\n",
        "\n",
        "        df[\"Titles\"] = df[\"Titles\"].apply(clean_text)\n",
        "        df[\"Abstracts\"] = df[\"Abstracts\"].apply(clean_text)\n",
        "        df[\"Claims\"] = df[\"Claims\"].apply(clean_text)\n",
        "\n",
        "        df = df.drop(columns=[\"Descriptions\"], errors='ignore')\n",
        "        df = df.drop(columns=[\"LegalStatus\"], errors='ignore')\n",
        "        df = df.dropna()\n",
        "        df = df.drop_duplicates()\n",
        "\n",
        "        dataframes.append(df)\n",
        "\n",
        "final_df = pd.concat(dataframes, ignore_index=True)\n",
        "\n",
        "final_df.head()"
      ],
      "metadata": {
        "colab": {
          "base_uri": "https://localhost:8080/",
          "height": 467
        },
        "id": "djpvAdyy6mck",
        "outputId": "2c2e94bf-8293-4c01-dbf8-fd8414f153ea"
      },
      "execution_count": 125,
      "outputs": [
        {
          "output_type": "execute_result",
          "data": {
            "text/plain": [
              "  CountryCode ApplicationNumber  \\\n",
              "0          US     US20170853637   \n",
              "1          US     US20200843969   \n",
              "2          US     US20210477824   \n",
              "3          US     US20230300035   \n",
              "4          US     US20170853637   \n",
              "\n",
              "                                              Titles  \\\n",
              "0  systems and methods for generating interactive...   \n",
              "1  systems and methods for generating interactive...   \n",
              "2  systems and methods for generating hypermedia-...   \n",
              "3  systems and methods for generating hypermedia-...   \n",
              "4  systems and methods for generating interactive...   \n",
              "\n",
              "                                           Abstracts  \\\n",
              "0  systems and methods are provided for generatin...   \n",
              "1  systems and methods are provided for generatin...   \n",
              "2  systems and methods are provided for generatin...   \n",
              "3  systems and methods are provided for generatin...   \n",
              "4  systems and methods are provided for generatin...   \n",
              "\n",
              "                                              Claims  \\\n",
              "0  . a computerized system for generating hyperme...   \n",
              "1  . a mobile device comprising: at least one sto...   \n",
              "2  . a method for providing hypermedia elements t...   \n",
              "3  . a method for providing hypermedia elements t...   \n",
              "4   . a computerized system for generating hyperm...   \n",
              "\n",
              "                                                IPCs  \\\n",
              "0  ['G06F16/30', 'G06F16/93', 'G06F21/62', 'G06F3...   \n",
              "1  ['G06F16/00', 'G06F16/93', 'G06F21/62', 'G06F3...   \n",
              "2  ['G06F16/30', 'G06F16/93', 'G06F21/62', 'G06F3...   \n",
              "3  ['G06F16/90', 'G06F16/93', 'G06F21/62', 'G06F3...   \n",
              "4  ['G06F17/30', 'G06F21/62', 'G06F3/048', 'G16H1...   \n",
              "\n",
              "                                                CPCs  \\\n",
              "0  ['G06F16/94', 'G06F21/6245', 'G06F3/048', 'G06...   \n",
              "1  ['G06F16/94', 'G06F21/6245', 'G06F3/048', 'G06...   \n",
              "2  ['G06F16/94', 'G06F21/6245', 'G06F3/048', 'G06...   \n",
              "3  ['G06F16/94', 'G06F21/6245', 'G06F3/048', 'G06...   \n",
              "4  ['G06F16/94', 'G06F21/6245', 'G06F3/048', 'G06...   \n",
              "\n",
              "          ProbablePatentAssignee  EarliestPriorityDate  \n",
              "0  TELETRACKING TECHNOLOGIES INC              20161223  \n",
              "1  TELETRACKING TECHNOLOGIES INC              20161223  \n",
              "2  TELETRACKING TECHNOLOGIES INC              20161223  \n",
              "3  TELETRACKING TECHNOLOGIES INC              20161223  \n",
              "4  TELETRACKING TECHNOLOGIES INC              20161223  "
            ],
            "text/html": [
              "\n",
              "  <div id=\"df-4b517dd4-7701-4b41-9930-7a5799d83405\" class=\"colab-df-container\">\n",
              "    <div>\n",
              "<style scoped>\n",
              "    .dataframe tbody tr th:only-of-type {\n",
              "        vertical-align: middle;\n",
              "    }\n",
              "\n",
              "    .dataframe tbody tr th {\n",
              "        vertical-align: top;\n",
              "    }\n",
              "\n",
              "    .dataframe thead th {\n",
              "        text-align: right;\n",
              "    }\n",
              "</style>\n",
              "<table border=\"1\" class=\"dataframe\">\n",
              "  <thead>\n",
              "    <tr style=\"text-align: right;\">\n",
              "      <th></th>\n",
              "      <th>CountryCode</th>\n",
              "      <th>ApplicationNumber</th>\n",
              "      <th>Titles</th>\n",
              "      <th>Abstracts</th>\n",
              "      <th>Claims</th>\n",
              "      <th>IPCs</th>\n",
              "      <th>CPCs</th>\n",
              "      <th>ProbablePatentAssignee</th>\n",
              "      <th>EarliestPriorityDate</th>\n",
              "    </tr>\n",
              "  </thead>\n",
              "  <tbody>\n",
              "    <tr>\n",
              "      <th>0</th>\n",
              "      <td>US</td>\n",
              "      <td>US20170853637</td>\n",
              "      <td>systems and methods for generating interactive...</td>\n",
              "      <td>systems and methods are provided for generatin...</td>\n",
              "      <td>. a computerized system for generating hyperme...</td>\n",
              "      <td>['G06F16/30', 'G06F16/93', 'G06F21/62', 'G06F3...</td>\n",
              "      <td>['G06F16/94', 'G06F21/6245', 'G06F3/048', 'G06...</td>\n",
              "      <td>TELETRACKING TECHNOLOGIES INC</td>\n",
              "      <td>20161223</td>\n",
              "    </tr>\n",
              "    <tr>\n",
              "      <th>1</th>\n",
              "      <td>US</td>\n",
              "      <td>US20200843969</td>\n",
              "      <td>systems and methods for generating interactive...</td>\n",
              "      <td>systems and methods are provided for generatin...</td>\n",
              "      <td>. a mobile device comprising: at least one sto...</td>\n",
              "      <td>['G06F16/00', 'G06F16/93', 'G06F21/62', 'G06F3...</td>\n",
              "      <td>['G06F16/94', 'G06F21/6245', 'G06F3/048', 'G06...</td>\n",
              "      <td>TELETRACKING TECHNOLOGIES INC</td>\n",
              "      <td>20161223</td>\n",
              "    </tr>\n",
              "    <tr>\n",
              "      <th>2</th>\n",
              "      <td>US</td>\n",
              "      <td>US20210477824</td>\n",
              "      <td>systems and methods for generating hypermedia-...</td>\n",
              "      <td>systems and methods are provided for generatin...</td>\n",
              "      <td>. a method for providing hypermedia elements t...</td>\n",
              "      <td>['G06F16/30', 'G06F16/93', 'G06F21/62', 'G06F3...</td>\n",
              "      <td>['G06F16/94', 'G06F21/6245', 'G06F3/048', 'G06...</td>\n",
              "      <td>TELETRACKING TECHNOLOGIES INC</td>\n",
              "      <td>20161223</td>\n",
              "    </tr>\n",
              "    <tr>\n",
              "      <th>3</th>\n",
              "      <td>US</td>\n",
              "      <td>US20230300035</td>\n",
              "      <td>systems and methods for generating hypermedia-...</td>\n",
              "      <td>systems and methods are provided for generatin...</td>\n",
              "      <td>. a method for providing hypermedia elements t...</td>\n",
              "      <td>['G06F16/90', 'G06F16/93', 'G06F21/62', 'G06F3...</td>\n",
              "      <td>['G06F16/94', 'G06F21/6245', 'G06F3/048', 'G06...</td>\n",
              "      <td>TELETRACKING TECHNOLOGIES INC</td>\n",
              "      <td>20161223</td>\n",
              "    </tr>\n",
              "    <tr>\n",
              "      <th>4</th>\n",
              "      <td>US</td>\n",
              "      <td>US20170853637</td>\n",
              "      <td>systems and methods for generating interactive...</td>\n",
              "      <td>systems and methods are provided for generatin...</td>\n",
              "      <td>. a computerized system for generating hyperm...</td>\n",
              "      <td>['G06F17/30', 'G06F21/62', 'G06F3/048', 'G16H1...</td>\n",
              "      <td>['G06F16/94', 'G06F21/6245', 'G06F3/048', 'G06...</td>\n",
              "      <td>TELETRACKING TECHNOLOGIES INC</td>\n",
              "      <td>20161223</td>\n",
              "    </tr>\n",
              "  </tbody>\n",
              "</table>\n",
              "</div>\n",
              "    <div class=\"colab-df-buttons\">\n",
              "\n",
              "  <div class=\"colab-df-container\">\n",
              "    <button class=\"colab-df-convert\" onclick=\"convertToInteractive('df-4b517dd4-7701-4b41-9930-7a5799d83405')\"\n",
              "            title=\"Convert this dataframe to an interactive table.\"\n",
              "            style=\"display:none;\">\n",
              "\n",
              "  <svg xmlns=\"http://www.w3.org/2000/svg\" height=\"24px\" viewBox=\"0 -960 960 960\">\n",
              "    <path d=\"M120-120v-720h720v720H120Zm60-500h600v-160H180v160Zm220 220h160v-160H400v160Zm0 220h160v-160H400v160ZM180-400h160v-160H180v160Zm440 0h160v-160H620v160ZM180-180h160v-160H180v160Zm440 0h160v-160H620v160Z\"/>\n",
              "  </svg>\n",
              "    </button>\n",
              "\n",
              "  <style>\n",
              "    .colab-df-container {\n",
              "      display:flex;\n",
              "      gap: 12px;\n",
              "    }\n",
              "\n",
              "    .colab-df-convert {\n",
              "      background-color: #E8F0FE;\n",
              "      border: none;\n",
              "      border-radius: 50%;\n",
              "      cursor: pointer;\n",
              "      display: none;\n",
              "      fill: #1967D2;\n",
              "      height: 32px;\n",
              "      padding: 0 0 0 0;\n",
              "      width: 32px;\n",
              "    }\n",
              "\n",
              "    .colab-df-convert:hover {\n",
              "      background-color: #E2EBFA;\n",
              "      box-shadow: 0px 1px 2px rgba(60, 64, 67, 0.3), 0px 1px 3px 1px rgba(60, 64, 67, 0.15);\n",
              "      fill: #174EA6;\n",
              "    }\n",
              "\n",
              "    .colab-df-buttons div {\n",
              "      margin-bottom: 4px;\n",
              "    }\n",
              "\n",
              "    [theme=dark] .colab-df-convert {\n",
              "      background-color: #3B4455;\n",
              "      fill: #D2E3FC;\n",
              "    }\n",
              "\n",
              "    [theme=dark] .colab-df-convert:hover {\n",
              "      background-color: #434B5C;\n",
              "      box-shadow: 0px 1px 3px 1px rgba(0, 0, 0, 0.15);\n",
              "      filter: drop-shadow(0px 1px 2px rgba(0, 0, 0, 0.3));\n",
              "      fill: #FFFFFF;\n",
              "    }\n",
              "  </style>\n",
              "\n",
              "    <script>\n",
              "      const buttonEl =\n",
              "        document.querySelector('#df-4b517dd4-7701-4b41-9930-7a5799d83405 button.colab-df-convert');\n",
              "      buttonEl.style.display =\n",
              "        google.colab.kernel.accessAllowed ? 'block' : 'none';\n",
              "\n",
              "      async function convertToInteractive(key) {\n",
              "        const element = document.querySelector('#df-4b517dd4-7701-4b41-9930-7a5799d83405');\n",
              "        const dataTable =\n",
              "          await google.colab.kernel.invokeFunction('convertToInteractive',\n",
              "                                                    [key], {});\n",
              "        if (!dataTable) return;\n",
              "\n",
              "        const docLinkHtml = 'Like what you see? Visit the ' +\n",
              "          '<a target=\"_blank\" href=https://colab.research.google.com/notebooks/data_table.ipynb>data table notebook</a>'\n",
              "          + ' to learn more about interactive tables.';\n",
              "        element.innerHTML = '';\n",
              "        dataTable['output_type'] = 'display_data';\n",
              "        await google.colab.output.renderOutput(dataTable, element);\n",
              "        const docLink = document.createElement('div');\n",
              "        docLink.innerHTML = docLinkHtml;\n",
              "        element.appendChild(docLink);\n",
              "      }\n",
              "    </script>\n",
              "  </div>\n",
              "\n",
              "\n",
              "<div id=\"df-230a0d91-a619-4a21-a2e1-51ebf8d1b448\">\n",
              "  <button class=\"colab-df-quickchart\" onclick=\"quickchart('df-230a0d91-a619-4a21-a2e1-51ebf8d1b448')\"\n",
              "            title=\"Suggest charts\"\n",
              "            style=\"display:none;\">\n",
              "\n",
              "<svg xmlns=\"http://www.w3.org/2000/svg\" height=\"24px\"viewBox=\"0 0 24 24\"\n",
              "     width=\"24px\">\n",
              "    <g>\n",
              "        <path d=\"M19 3H5c-1.1 0-2 .9-2 2v14c0 1.1.9 2 2 2h14c1.1 0 2-.9 2-2V5c0-1.1-.9-2-2-2zM9 17H7v-7h2v7zm4 0h-2V7h2v10zm4 0h-2v-4h2v4z\"/>\n",
              "    </g>\n",
              "</svg>\n",
              "  </button>\n",
              "\n",
              "<style>\n",
              "  .colab-df-quickchart {\n",
              "      --bg-color: #E8F0FE;\n",
              "      --fill-color: #1967D2;\n",
              "      --hover-bg-color: #E2EBFA;\n",
              "      --hover-fill-color: #174EA6;\n",
              "      --disabled-fill-color: #AAA;\n",
              "      --disabled-bg-color: #DDD;\n",
              "  }\n",
              "\n",
              "  [theme=dark] .colab-df-quickchart {\n",
              "      --bg-color: #3B4455;\n",
              "      --fill-color: #D2E3FC;\n",
              "      --hover-bg-color: #434B5C;\n",
              "      --hover-fill-color: #FFFFFF;\n",
              "      --disabled-bg-color: #3B4455;\n",
              "      --disabled-fill-color: #666;\n",
              "  }\n",
              "\n",
              "  .colab-df-quickchart {\n",
              "    background-color: var(--bg-color);\n",
              "    border: none;\n",
              "    border-radius: 50%;\n",
              "    cursor: pointer;\n",
              "    display: none;\n",
              "    fill: var(--fill-color);\n",
              "    height: 32px;\n",
              "    padding: 0;\n",
              "    width: 32px;\n",
              "  }\n",
              "\n",
              "  .colab-df-quickchart:hover {\n",
              "    background-color: var(--hover-bg-color);\n",
              "    box-shadow: 0 1px 2px rgba(60, 64, 67, 0.3), 0 1px 3px 1px rgba(60, 64, 67, 0.15);\n",
              "    fill: var(--button-hover-fill-color);\n",
              "  }\n",
              "\n",
              "  .colab-df-quickchart-complete:disabled,\n",
              "  .colab-df-quickchart-complete:disabled:hover {\n",
              "    background-color: var(--disabled-bg-color);\n",
              "    fill: var(--disabled-fill-color);\n",
              "    box-shadow: none;\n",
              "  }\n",
              "\n",
              "  .colab-df-spinner {\n",
              "    border: 2px solid var(--fill-color);\n",
              "    border-color: transparent;\n",
              "    border-bottom-color: var(--fill-color);\n",
              "    animation:\n",
              "      spin 1s steps(1) infinite;\n",
              "  }\n",
              "\n",
              "  @keyframes spin {\n",
              "    0% {\n",
              "      border-color: transparent;\n",
              "      border-bottom-color: var(--fill-color);\n",
              "      border-left-color: var(--fill-color);\n",
              "    }\n",
              "    20% {\n",
              "      border-color: transparent;\n",
              "      border-left-color: var(--fill-color);\n",
              "      border-top-color: var(--fill-color);\n",
              "    }\n",
              "    30% {\n",
              "      border-color: transparent;\n",
              "      border-left-color: var(--fill-color);\n",
              "      border-top-color: var(--fill-color);\n",
              "      border-right-color: var(--fill-color);\n",
              "    }\n",
              "    40% {\n",
              "      border-color: transparent;\n",
              "      border-right-color: var(--fill-color);\n",
              "      border-top-color: var(--fill-color);\n",
              "    }\n",
              "    60% {\n",
              "      border-color: transparent;\n",
              "      border-right-color: var(--fill-color);\n",
              "    }\n",
              "    80% {\n",
              "      border-color: transparent;\n",
              "      border-right-color: var(--fill-color);\n",
              "      border-bottom-color: var(--fill-color);\n",
              "    }\n",
              "    90% {\n",
              "      border-color: transparent;\n",
              "      border-bottom-color: var(--fill-color);\n",
              "    }\n",
              "  }\n",
              "</style>\n",
              "\n",
              "  <script>\n",
              "    async function quickchart(key) {\n",
              "      const quickchartButtonEl =\n",
              "        document.querySelector('#' + key + ' button');\n",
              "      quickchartButtonEl.disabled = true;  // To prevent multiple clicks.\n",
              "      quickchartButtonEl.classList.add('colab-df-spinner');\n",
              "      try {\n",
              "        const charts = await google.colab.kernel.invokeFunction(\n",
              "            'suggestCharts', [key], {});\n",
              "      } catch (error) {\n",
              "        console.error('Error during call to suggestCharts:', error);\n",
              "      }\n",
              "      quickchartButtonEl.classList.remove('colab-df-spinner');\n",
              "      quickchartButtonEl.classList.add('colab-df-quickchart-complete');\n",
              "    }\n",
              "    (() => {\n",
              "      let quickchartButtonEl =\n",
              "        document.querySelector('#df-230a0d91-a619-4a21-a2e1-51ebf8d1b448 button');\n",
              "      quickchartButtonEl.style.display =\n",
              "        google.colab.kernel.accessAllowed ? 'block' : 'none';\n",
              "    })();\n",
              "  </script>\n",
              "</div>\n",
              "\n",
              "    </div>\n",
              "  </div>\n"
            ],
            "application/vnd.google.colaboratory.intrinsic+json": {
              "type": "dataframe",
              "variable_name": "final_df",
              "summary": "{\n  \"name\": \"final_df\",\n  \"rows\": 77234,\n  \"fields\": [\n    {\n      \"column\": \"CountryCode\",\n      \"properties\": {\n        \"dtype\": \"category\",\n        \"num_unique_values\": 1,\n        \"samples\": [\n          \"US\"\n        ],\n        \"semantic_type\": \"\",\n        \"description\": \"\"\n      }\n    },\n    {\n      \"column\": \"ApplicationNumber\",\n      \"properties\": {\n        \"dtype\": \"string\",\n        \"num_unique_values\": 51969,\n        \"samples\": [\n          \"US20230286398\"\n        ],\n        \"semantic_type\": \"\",\n        \"description\": \"\"\n      }\n    },\n    {\n      \"column\": \"Titles\",\n      \"properties\": {\n        \"dtype\": \"category\",\n        \"num_unique_values\": 37958,\n        \"samples\": [\n          \"endobronchial catheter system and method for rapid diagnosis of lung disease\"\n        ],\n        \"semantic_type\": \"\",\n        \"description\": \"\"\n      }\n    },\n    {\n      \"column\": \"Abstracts\",\n      \"properties\": {\n        \"dtype\": \"string\",\n        \"num_unique_values\": 43470,\n        \"samples\": [\n          \"the inventive film clamping element ) is held by a lip ring ) and a vestibular ring , between which and possibly beyond which a film ) extends. the film ) and also the rings ) are elastically deformable, and it is provided that the film ) comprises an attachment ) each at two positions opposite one another. between these attachments , at least one elastic band ) extends which is suitable to constrict the film ) radially towards the inside.\"\n        ],\n        \"semantic_type\": \"\",\n        \"description\": \"\"\n      }\n    },\n    {\n      \"column\": \"Claims\",\n      \"properties\": {\n        \"dtype\": \"string\",\n        \"num_unique_values\": 76451,\n        \"samples\": [\n          \". a method for determining a navigation pathway for navigating an invasive medical instrument inside a blood vessel, the method comprising: receiving, by a processor, a first medical image associated with a patient, the first medical image acquired during a first medical imaging procedure; determining, by the processor, one or more parameters associated with the first medical image; identifying, by the processor, a second medical image from a plurality of images associated with the patient based on the determined one or more parameters, the second medical image acquired during a second medical imaging procedure performed prior to the first medical imaging procedure; determining, by the processor, deviation between a structural orientation of one or more objects in the first medical image and one or more objects in the second medical image; modifying, by the processor, the second medical image based on deviation between the structural orientation of the one or more objects in the first medical image and the one or more objects in the second medical image; and determining, by the processor, the navigation pathway for navigating the invasive medical instrument inside the blood vessel using the second medical image; wherein the navigation pathway corresponds to the modified structural orientation of the one or more objects in the second medical image . the method of claim , wherein the one or more parameters associated with the first medical image comprises one or more of positions of a patient being imaged, position coordinates associated with an imaging device, angular position of the imaging device, and distance between a patient table and the imaging device . the method of claim , wherein the second medical image is an image obtained from a medical database . the method of claim , wherein identifying the second medical image based on the one or more parameters comprises: identifying, by the processor, one or more medical images based on the one or more parameters associated with the first medical image; identifying, by the processor, one or more objects from the first medical image; identifying, by the processor, one or objects from the one or more medical images; comparing, by the processor, the one or more objects in the first medical image and the one or more objects in the one or more medical images; and determining, by the processor, the second medical image from the one or more medical images based on the comparison . the method of claim , wherein modifying the second medical image based on the first medical image comprises: determining, by the processor, a structural orientation of the one or more objects in the first medical image; determining, by the processor, a structural orientation of one or more objects in the second medical image; identifying, by the processor, a deviation between the structural orientation of the one or more objects in the first medical image and the one or more objects in the second medical image; and correcting, by the processor, the structural orientation of the one or more objects in the second medical image based on the structural orientation of the one or more objects in the first medical image if the deviation is identified . the method of claim , further comprising: calibrating, by the processor, one or more subsequent medical images based on the modified second medical image, wherein the one or more subsequent medical images are acquired by an imaging device after acquisition of the second medical image by the imaging device; and determining, by the processor, from the calibrated one or more subsequent medical images a critical point in the navigation pathway in the blood vessel, by the processor . the method of claim , further comprising: determining, by the processor, whether a new medical image is to be acquired by the imaging device based on the identification of the critical point in the navigation pathway . the method of claim , wherein calibrating the one or more subsequent medical images based on the modified second medical image comprises: determining, by the processor, the structural orientation of one or more objects in the one or more subsequent medical images; determining, by the processor, the structural orientation of one or more objects in the modified second medical image; identifying, by the processor, a deviation between the structural orientation of the one or more objects in the one or more subsequent medical images and the one or more objects in the modified second medical image; and correcting, by the processor, the structural orientation of the one or more objects in the one or more subsequent medical images based on the structural orientation of the one or more objects in the modified second medical image if a deviation is identified . the method of claim , wherein the first medical image is received from an imaging device andor a medical database . a system for determining a navigation pathway for navigating an invasive medical instrument inside a blood vessel, the system comprising: a processor; a medical database coupled to the processor; a memory coupled to the processor, the memory comprising a navigation module configured to: receive a first medical image associated with a patient; determine one or more parameters associated with the first medical image; identify a second medical image from a plurality of images associated with the patient based on the determined one or more parameters, the second medical image acquired during a medical imaging procedure prior to an acquisition of the first medical image; determine deviation between a structural orientation of one or more objects in the first medical image and one or more objects in the second medical image; modify the second medical image based on deviation between the structural orientation of the one or more objects in the first medical image and the one or more objects in the second medical image; and determine the navigation pathway for navigating the invasive medical instrument inside the blood vessel using the second medical image; wherein the navigation pathway corresponds to the modified structural orientation of the one or more objects in the second medical image . the system of claim , further comprising: a patient table; and an imaging device; wherein the one or more parameters associated with the first medical image comprises one or more of positions of a patient being imaged, position coordinates associated with the imaging device, angular position of the imaging device, and distance between the patient table and the imaging device . the system of claim , wherein the second medical image is an image obtained from the medical database . the system of claim , wherein the navigation module is configured to: identify one or more medical images based on the one or more parameters associated with the first medical image; identify one or more objects from the first medical image; identify one or objects from the one or more medical images; compare the one or more objects in the first medical image and the one or more objects in the one or more medical images; and determine the second medical image from the one or more medical images based on the comparison . the system of claim , wherein the navigation module is configured to: determine a structural orientation of the one or more objects in the first medical image; determine a structural orientation of one or more objects in the second medical image; determine a deviation between the structural orientation of the one or more objects in the first medical image and the one or more objects in the second medical image; and correct the structural orientation of the one or more objects in the second medical image based on the structural orientation of the one or more objects in the first medical image if the deviation is identified . the system of claim , wherein the navigation module is configured to: calibrate one or more subsequent medical images based on the modified second medical image, wherein the one or more subsequent medical images are acquired by an imaging device after acquisition of the second medical image by an imaging device; and determine from the calibrated one or more subsequent medical images a critical point in the navigation pathway in the blood vessel . the system of claim , wherein the navigation module is configured to: determine whether a new medical image is to be acquired by the imaging device based on the identification of the critical point in the navigation pathway . a non-transitory computer implemented storage medium that stores machine-readable instructions executable by at least one processor determining a navigation pathway for navigating an invasive medical instrument inside a blood vessel, the machine-readable instructions comprising: receiving a first medical image associated with a patient, the first medical image acquired during a first medical imaging procedure; determining one or more parameters associated with the first medical image; identifying a second medical image from a plurality of images associated with the patient based on the determined one or more parameters, the second medical image acquired during a second medical imaging procedure prior to the first medical imaging procedure; determining deviation between a structural orientation of one or more objects in the first medical image and one or more objects in the second medical image; modifying the second medical image based on deviation between the structural orientation of the one or more objects in the first medical image and the one or more objects in the second medical image; and determining the navigation pathway for navigating the invasive medical instrument inside the blood vessel using the second medical image; wherein the navigation pathway corresponds to the modified structural orientation of the one or more objects in the second medical image.\"\n        ],\n        \"semantic_type\": \"\",\n        \"description\": \"\"\n      }\n    },\n    {\n      \"column\": \"IPCs\",\n      \"properties\": {\n        \"dtype\": \"string\",\n        \"num_unique_values\": 43507,\n        \"samples\": [\n          \"['A61M16/04', 'G16H40/63']\"\n        ],\n        \"semantic_type\": \"\",\n        \"description\": \"\"\n      }\n    },\n    {\n      \"column\": \"CPCs\",\n      \"properties\": {\n        \"dtype\": \"string\",\n        \"num_unique_values\": 40945,\n        \"samples\": [\n          \"['A61B1/00096', 'A61B1/0011', 'A61B1/00154', 'A61B1/051', 'A61B1/07', 'A61B1/317', 'A61B17/3415', 'A61B17/3496', 'A61B2090/3614']\"\n        ],\n        \"semantic_type\": \"\",\n        \"description\": \"\"\n      }\n    },\n    {\n      \"column\": \"ProbablePatentAssignee\",\n      \"properties\": {\n        \"dtype\": \"category\",\n        \"num_unique_values\": 9395,\n        \"samples\": [\n          \"UNIV OF NORTH CAROLINA AT CHARLOTTE\"\n        ],\n        \"semantic_type\": \"\",\n        \"description\": \"\"\n      }\n    },\n    {\n      \"column\": \"EarliestPriorityDate\",\n      \"properties\": {\n        \"dtype\": \"number\",\n        \"std\": 21181,\n        \"min\": 20150102,\n        \"max\": 20240830,\n        \"num_unique_values\": 2683,\n        \"samples\": [\n          20200321\n        ],\n        \"semantic_type\": \"\",\n        \"description\": \"\"\n      }\n    }\n  ]\n}"
            }
          },
          "metadata": {},
          "execution_count": 125
        }
      ]
    },
    {
      "cell_type": "code",
      "source": [
        "print(final_df.describe())\n",
        "print(final_df.info())"
      ],
      "metadata": {
        "colab": {
          "base_uri": "https://localhost:8080/"
        },
        "id": "y4lg9nrgDF7p",
        "outputId": "2e948d20-88a5-4d31-c342-71469df5d63b"
      },
      "execution_count": 126,
      "outputs": [
        {
          "output_type": "stream",
          "name": "stdout",
          "text": [
            "       EarliestPriorityDate\n",
            "count          7.723400e+04\n",
            "mean           2.018081e+07\n",
            "std            2.118153e+04\n",
            "min            2.015010e+07\n",
            "25%            2.016100e+07\n",
            "50%            2.018052e+07\n",
            "75%            2.020012e+07\n",
            "max            2.024083e+07\n",
            "<class 'pandas.core.frame.DataFrame'>\n",
            "RangeIndex: 77234 entries, 0 to 77233\n",
            "Data columns (total 9 columns):\n",
            " #   Column                  Non-Null Count  Dtype \n",
            "---  ------                  --------------  ----- \n",
            " 0   CountryCode             77234 non-null  object\n",
            " 1   ApplicationNumber       77234 non-null  object\n",
            " 2   Titles                  77234 non-null  object\n",
            " 3   Abstracts               77234 non-null  object\n",
            " 4   Claims                  77234 non-null  object\n",
            " 5   IPCs                    77234 non-null  object\n",
            " 6   CPCs                    77234 non-null  object\n",
            " 7   ProbablePatentAssignee  77234 non-null  object\n",
            " 8   EarliestPriorityDate    77234 non-null  int64 \n",
            "dtypes: int64(1), object(8)\n",
            "memory usage: 5.3+ MB\n",
            "None\n"
          ]
        }
      ]
    },
    {
      "cell_type": "code",
      "source": [
        "#Date Convert\n",
        "final_df['EarliestPriorityDate'] = final_df['EarliestPriorityDate'].astype(int)\n",
        "final_df['EarliestPriorityDate'] = pd.to_datetime(final_df['EarliestPriorityDate'].astype(str), format='%Y%m%d')"
      ],
      "metadata": {
        "id": "w5b2_YMO_UxT"
      },
      "execution_count": 127,
      "outputs": []
    },
    {
      "cell_type": "code",
      "source": [
        "unique_CountryCode = final_df['CountryCode'].unique()\n",
        "print(unique_CountryCode)"
      ],
      "metadata": {
        "colab": {
          "base_uri": "https://localhost:8080/"
        },
        "id": "WuTb099VDOMu",
        "outputId": "b95ddd13-8c90-414e-fd57-2b61fef8ce4f"
      },
      "execution_count": 128,
      "outputs": [
        {
          "output_type": "stream",
          "name": "stdout",
          "text": [
            "['US']\n"
          ]
        }
      ]
    },
    {
      "cell_type": "code",
      "source": [
        " #removing country code\n",
        " final_df = final_df.drop(columns=[\"CountryCode\"], errors='ignore')"
      ],
      "metadata": {
        "id": "OzdhH8lcDuxm"
      },
      "execution_count": 129,
      "outputs": []
    },
    {
      "cell_type": "code",
      "source": [
        "print(f\"Number of unique Application no's: {len(final_df.ApplicationNumber.unique())}\")\n",
        "print(f\"Number of unique Abstracts: {len(final_df.Abstracts.unique())}\")\n",
        "print(f\"Number of unique Claims: {len(final_df.Claims.unique())}\")"
      ],
      "metadata": {
        "colab": {
          "base_uri": "https://localhost:8080/"
        },
        "id": "pZ5i5QAb_bEx",
        "outputId": "9ac0dbcb-f966-4f19-9262-621480a56e8c"
      },
      "execution_count": 130,
      "outputs": [
        {
          "output_type": "stream",
          "name": "stdout",
          "text": [
            "Number of unique Application no's: 51969\n",
            "Number of unique Abstracts: 43470\n",
            "Number of unique Claims: 76451\n"
          ]
        }
      ]
    },
    {
      "cell_type": "code",
      "source": [
        "# calc length of text to analyze and use for removing duplicates keeping the longer claim\n",
        "final_df[\"claim_length\"] = final_df.Claims.apply(lambda x: len(x.split(\" \")))\n",
        "final_df[\"abstract_length\"] = final_df.Abstracts.apply(lambda x: len(x.split(\" \")))"
      ],
      "metadata": {
        "id": "jpGK6zN4_0QI"
      },
      "execution_count": 131,
      "outputs": []
    },
    {
      "cell_type": "code",
      "source": [
        "final_df.head()"
      ],
      "metadata": {
        "colab": {
          "base_uri": "https://localhost:8080/",
          "height": 660
        },
        "id": "kGzU1SllEXCK",
        "outputId": "6fb6b15b-9d3c-4a6c-f477-227c9d320b45"
      },
      "execution_count": 132,
      "outputs": [
        {
          "output_type": "execute_result",
          "data": {
            "text/plain": [
              "  ApplicationNumber                                             Titles  \\\n",
              "0     US20170853637  systems and methods for generating interactive...   \n",
              "1     US20200843969  systems and methods for generating interactive...   \n",
              "2     US20210477824  systems and methods for generating hypermedia-...   \n",
              "3     US20230300035  systems and methods for generating hypermedia-...   \n",
              "4     US20170853637  systems and methods for generating interactive...   \n",
              "\n",
              "                                           Abstracts  \\\n",
              "0  systems and methods are provided for generatin...   \n",
              "1  systems and methods are provided for generatin...   \n",
              "2  systems and methods are provided for generatin...   \n",
              "3  systems and methods are provided for generatin...   \n",
              "4  systems and methods are provided for generatin...   \n",
              "\n",
              "                                              Claims  \\\n",
              "0  . a computerized system for generating hyperme...   \n",
              "1  . a mobile device comprising: at least one sto...   \n",
              "2  . a method for providing hypermedia elements t...   \n",
              "3  . a method for providing hypermedia elements t...   \n",
              "4   . a computerized system for generating hyperm...   \n",
              "\n",
              "                                                IPCs  \\\n",
              "0  ['G06F16/30', 'G06F16/93', 'G06F21/62', 'G06F3...   \n",
              "1  ['G06F16/00', 'G06F16/93', 'G06F21/62', 'G06F3...   \n",
              "2  ['G06F16/30', 'G06F16/93', 'G06F21/62', 'G06F3...   \n",
              "3  ['G06F16/90', 'G06F16/93', 'G06F21/62', 'G06F3...   \n",
              "4  ['G06F17/30', 'G06F21/62', 'G06F3/048', 'G16H1...   \n",
              "\n",
              "                                                CPCs  \\\n",
              "0  ['G06F16/94', 'G06F21/6245', 'G06F3/048', 'G06...   \n",
              "1  ['G06F16/94', 'G06F21/6245', 'G06F3/048', 'G06...   \n",
              "2  ['G06F16/94', 'G06F21/6245', 'G06F3/048', 'G06...   \n",
              "3  ['G06F16/94', 'G06F21/6245', 'G06F3/048', 'G06...   \n",
              "4  ['G06F16/94', 'G06F21/6245', 'G06F3/048', 'G06...   \n",
              "\n",
              "          ProbablePatentAssignee EarliestPriorityDate  claim_length  \\\n",
              "0  TELETRACKING TECHNOLOGIES INC           2016-12-23          1590   \n",
              "1  TELETRACKING TECHNOLOGIES INC           2016-12-23          1198   \n",
              "2  TELETRACKING TECHNOLOGIES INC           2016-12-23          1140   \n",
              "3  TELETRACKING TECHNOLOGIES INC           2016-12-23          1401   \n",
              "4  TELETRACKING TECHNOLOGIES INC           2016-12-23          1362   \n",
              "\n",
              "   abstract_length  \n",
              "0              139  \n",
              "1              139  \n",
              "2              139  \n",
              "3              148  \n",
              "4              139  "
            ],
            "text/html": [
              "\n",
              "  <div id=\"df-2e4e370a-4049-448f-b42d-40a7fc019962\" class=\"colab-df-container\">\n",
              "    <div>\n",
              "<style scoped>\n",
              "    .dataframe tbody tr th:only-of-type {\n",
              "        vertical-align: middle;\n",
              "    }\n",
              "\n",
              "    .dataframe tbody tr th {\n",
              "        vertical-align: top;\n",
              "    }\n",
              "\n",
              "    .dataframe thead th {\n",
              "        text-align: right;\n",
              "    }\n",
              "</style>\n",
              "<table border=\"1\" class=\"dataframe\">\n",
              "  <thead>\n",
              "    <tr style=\"text-align: right;\">\n",
              "      <th></th>\n",
              "      <th>ApplicationNumber</th>\n",
              "      <th>Titles</th>\n",
              "      <th>Abstracts</th>\n",
              "      <th>Claims</th>\n",
              "      <th>IPCs</th>\n",
              "      <th>CPCs</th>\n",
              "      <th>ProbablePatentAssignee</th>\n",
              "      <th>EarliestPriorityDate</th>\n",
              "      <th>claim_length</th>\n",
              "      <th>abstract_length</th>\n",
              "    </tr>\n",
              "  </thead>\n",
              "  <tbody>\n",
              "    <tr>\n",
              "      <th>0</th>\n",
              "      <td>US20170853637</td>\n",
              "      <td>systems and methods for generating interactive...</td>\n",
              "      <td>systems and methods are provided for generatin...</td>\n",
              "      <td>. a computerized system for generating hyperme...</td>\n",
              "      <td>['G06F16/30', 'G06F16/93', 'G06F21/62', 'G06F3...</td>\n",
              "      <td>['G06F16/94', 'G06F21/6245', 'G06F3/048', 'G06...</td>\n",
              "      <td>TELETRACKING TECHNOLOGIES INC</td>\n",
              "      <td>2016-12-23</td>\n",
              "      <td>1590</td>\n",
              "      <td>139</td>\n",
              "    </tr>\n",
              "    <tr>\n",
              "      <th>1</th>\n",
              "      <td>US20200843969</td>\n",
              "      <td>systems and methods for generating interactive...</td>\n",
              "      <td>systems and methods are provided for generatin...</td>\n",
              "      <td>. a mobile device comprising: at least one sto...</td>\n",
              "      <td>['G06F16/00', 'G06F16/93', 'G06F21/62', 'G06F3...</td>\n",
              "      <td>['G06F16/94', 'G06F21/6245', 'G06F3/048', 'G06...</td>\n",
              "      <td>TELETRACKING TECHNOLOGIES INC</td>\n",
              "      <td>2016-12-23</td>\n",
              "      <td>1198</td>\n",
              "      <td>139</td>\n",
              "    </tr>\n",
              "    <tr>\n",
              "      <th>2</th>\n",
              "      <td>US20210477824</td>\n",
              "      <td>systems and methods for generating hypermedia-...</td>\n",
              "      <td>systems and methods are provided for generatin...</td>\n",
              "      <td>. a method for providing hypermedia elements t...</td>\n",
              "      <td>['G06F16/30', 'G06F16/93', 'G06F21/62', 'G06F3...</td>\n",
              "      <td>['G06F16/94', 'G06F21/6245', 'G06F3/048', 'G06...</td>\n",
              "      <td>TELETRACKING TECHNOLOGIES INC</td>\n",
              "      <td>2016-12-23</td>\n",
              "      <td>1140</td>\n",
              "      <td>139</td>\n",
              "    </tr>\n",
              "    <tr>\n",
              "      <th>3</th>\n",
              "      <td>US20230300035</td>\n",
              "      <td>systems and methods for generating hypermedia-...</td>\n",
              "      <td>systems and methods are provided for generatin...</td>\n",
              "      <td>. a method for providing hypermedia elements t...</td>\n",
              "      <td>['G06F16/90', 'G06F16/93', 'G06F21/62', 'G06F3...</td>\n",
              "      <td>['G06F16/94', 'G06F21/6245', 'G06F3/048', 'G06...</td>\n",
              "      <td>TELETRACKING TECHNOLOGIES INC</td>\n",
              "      <td>2016-12-23</td>\n",
              "      <td>1401</td>\n",
              "      <td>148</td>\n",
              "    </tr>\n",
              "    <tr>\n",
              "      <th>4</th>\n",
              "      <td>US20170853637</td>\n",
              "      <td>systems and methods for generating interactive...</td>\n",
              "      <td>systems and methods are provided for generatin...</td>\n",
              "      <td>. a computerized system for generating hyperm...</td>\n",
              "      <td>['G06F17/30', 'G06F21/62', 'G06F3/048', 'G16H1...</td>\n",
              "      <td>['G06F16/94', 'G06F21/6245', 'G06F3/048', 'G06...</td>\n",
              "      <td>TELETRACKING TECHNOLOGIES INC</td>\n",
              "      <td>2016-12-23</td>\n",
              "      <td>1362</td>\n",
              "      <td>139</td>\n",
              "    </tr>\n",
              "  </tbody>\n",
              "</table>\n",
              "</div>\n",
              "    <div class=\"colab-df-buttons\">\n",
              "\n",
              "  <div class=\"colab-df-container\">\n",
              "    <button class=\"colab-df-convert\" onclick=\"convertToInteractive('df-2e4e370a-4049-448f-b42d-40a7fc019962')\"\n",
              "            title=\"Convert this dataframe to an interactive table.\"\n",
              "            style=\"display:none;\">\n",
              "\n",
              "  <svg xmlns=\"http://www.w3.org/2000/svg\" height=\"24px\" viewBox=\"0 -960 960 960\">\n",
              "    <path d=\"M120-120v-720h720v720H120Zm60-500h600v-160H180v160Zm220 220h160v-160H400v160Zm0 220h160v-160H400v160ZM180-400h160v-160H180v160Zm440 0h160v-160H620v160ZM180-180h160v-160H180v160Zm440 0h160v-160H620v160Z\"/>\n",
              "  </svg>\n",
              "    </button>\n",
              "\n",
              "  <style>\n",
              "    .colab-df-container {\n",
              "      display:flex;\n",
              "      gap: 12px;\n",
              "    }\n",
              "\n",
              "    .colab-df-convert {\n",
              "      background-color: #E8F0FE;\n",
              "      border: none;\n",
              "      border-radius: 50%;\n",
              "      cursor: pointer;\n",
              "      display: none;\n",
              "      fill: #1967D2;\n",
              "      height: 32px;\n",
              "      padding: 0 0 0 0;\n",
              "      width: 32px;\n",
              "    }\n",
              "\n",
              "    .colab-df-convert:hover {\n",
              "      background-color: #E2EBFA;\n",
              "      box-shadow: 0px 1px 2px rgba(60, 64, 67, 0.3), 0px 1px 3px 1px rgba(60, 64, 67, 0.15);\n",
              "      fill: #174EA6;\n",
              "    }\n",
              "\n",
              "    .colab-df-buttons div {\n",
              "      margin-bottom: 4px;\n",
              "    }\n",
              "\n",
              "    [theme=dark] .colab-df-convert {\n",
              "      background-color: #3B4455;\n",
              "      fill: #D2E3FC;\n",
              "    }\n",
              "\n",
              "    [theme=dark] .colab-df-convert:hover {\n",
              "      background-color: #434B5C;\n",
              "      box-shadow: 0px 1px 3px 1px rgba(0, 0, 0, 0.15);\n",
              "      filter: drop-shadow(0px 1px 2px rgba(0, 0, 0, 0.3));\n",
              "      fill: #FFFFFF;\n",
              "    }\n",
              "  </style>\n",
              "\n",
              "    <script>\n",
              "      const buttonEl =\n",
              "        document.querySelector('#df-2e4e370a-4049-448f-b42d-40a7fc019962 button.colab-df-convert');\n",
              "      buttonEl.style.display =\n",
              "        google.colab.kernel.accessAllowed ? 'block' : 'none';\n",
              "\n",
              "      async function convertToInteractive(key) {\n",
              "        const element = document.querySelector('#df-2e4e370a-4049-448f-b42d-40a7fc019962');\n",
              "        const dataTable =\n",
              "          await google.colab.kernel.invokeFunction('convertToInteractive',\n",
              "                                                    [key], {});\n",
              "        if (!dataTable) return;\n",
              "\n",
              "        const docLinkHtml = 'Like what you see? Visit the ' +\n",
              "          '<a target=\"_blank\" href=https://colab.research.google.com/notebooks/data_table.ipynb>data table notebook</a>'\n",
              "          + ' to learn more about interactive tables.';\n",
              "        element.innerHTML = '';\n",
              "        dataTable['output_type'] = 'display_data';\n",
              "        await google.colab.output.renderOutput(dataTable, element);\n",
              "        const docLink = document.createElement('div');\n",
              "        docLink.innerHTML = docLinkHtml;\n",
              "        element.appendChild(docLink);\n",
              "      }\n",
              "    </script>\n",
              "  </div>\n",
              "\n",
              "\n",
              "<div id=\"df-93bc8579-37b3-4278-800f-53e2c3a4f4ae\">\n",
              "  <button class=\"colab-df-quickchart\" onclick=\"quickchart('df-93bc8579-37b3-4278-800f-53e2c3a4f4ae')\"\n",
              "            title=\"Suggest charts\"\n",
              "            style=\"display:none;\">\n",
              "\n",
              "<svg xmlns=\"http://www.w3.org/2000/svg\" height=\"24px\"viewBox=\"0 0 24 24\"\n",
              "     width=\"24px\">\n",
              "    <g>\n",
              "        <path d=\"M19 3H5c-1.1 0-2 .9-2 2v14c0 1.1.9 2 2 2h14c1.1 0 2-.9 2-2V5c0-1.1-.9-2-2-2zM9 17H7v-7h2v7zm4 0h-2V7h2v10zm4 0h-2v-4h2v4z\"/>\n",
              "    </g>\n",
              "</svg>\n",
              "  </button>\n",
              "\n",
              "<style>\n",
              "  .colab-df-quickchart {\n",
              "      --bg-color: #E8F0FE;\n",
              "      --fill-color: #1967D2;\n",
              "      --hover-bg-color: #E2EBFA;\n",
              "      --hover-fill-color: #174EA6;\n",
              "      --disabled-fill-color: #AAA;\n",
              "      --disabled-bg-color: #DDD;\n",
              "  }\n",
              "\n",
              "  [theme=dark] .colab-df-quickchart {\n",
              "      --bg-color: #3B4455;\n",
              "      --fill-color: #D2E3FC;\n",
              "      --hover-bg-color: #434B5C;\n",
              "      --hover-fill-color: #FFFFFF;\n",
              "      --disabled-bg-color: #3B4455;\n",
              "      --disabled-fill-color: #666;\n",
              "  }\n",
              "\n",
              "  .colab-df-quickchart {\n",
              "    background-color: var(--bg-color);\n",
              "    border: none;\n",
              "    border-radius: 50%;\n",
              "    cursor: pointer;\n",
              "    display: none;\n",
              "    fill: var(--fill-color);\n",
              "    height: 32px;\n",
              "    padding: 0;\n",
              "    width: 32px;\n",
              "  }\n",
              "\n",
              "  .colab-df-quickchart:hover {\n",
              "    background-color: var(--hover-bg-color);\n",
              "    box-shadow: 0 1px 2px rgba(60, 64, 67, 0.3), 0 1px 3px 1px rgba(60, 64, 67, 0.15);\n",
              "    fill: var(--button-hover-fill-color);\n",
              "  }\n",
              "\n",
              "  .colab-df-quickchart-complete:disabled,\n",
              "  .colab-df-quickchart-complete:disabled:hover {\n",
              "    background-color: var(--disabled-bg-color);\n",
              "    fill: var(--disabled-fill-color);\n",
              "    box-shadow: none;\n",
              "  }\n",
              "\n",
              "  .colab-df-spinner {\n",
              "    border: 2px solid var(--fill-color);\n",
              "    border-color: transparent;\n",
              "    border-bottom-color: var(--fill-color);\n",
              "    animation:\n",
              "      spin 1s steps(1) infinite;\n",
              "  }\n",
              "\n",
              "  @keyframes spin {\n",
              "    0% {\n",
              "      border-color: transparent;\n",
              "      border-bottom-color: var(--fill-color);\n",
              "      border-left-color: var(--fill-color);\n",
              "    }\n",
              "    20% {\n",
              "      border-color: transparent;\n",
              "      border-left-color: var(--fill-color);\n",
              "      border-top-color: var(--fill-color);\n",
              "    }\n",
              "    30% {\n",
              "      border-color: transparent;\n",
              "      border-left-color: var(--fill-color);\n",
              "      border-top-color: var(--fill-color);\n",
              "      border-right-color: var(--fill-color);\n",
              "    }\n",
              "    40% {\n",
              "      border-color: transparent;\n",
              "      border-right-color: var(--fill-color);\n",
              "      border-top-color: var(--fill-color);\n",
              "    }\n",
              "    60% {\n",
              "      border-color: transparent;\n",
              "      border-right-color: var(--fill-color);\n",
              "    }\n",
              "    80% {\n",
              "      border-color: transparent;\n",
              "      border-right-color: var(--fill-color);\n",
              "      border-bottom-color: var(--fill-color);\n",
              "    }\n",
              "    90% {\n",
              "      border-color: transparent;\n",
              "      border-bottom-color: var(--fill-color);\n",
              "    }\n",
              "  }\n",
              "</style>\n",
              "\n",
              "  <script>\n",
              "    async function quickchart(key) {\n",
              "      const quickchartButtonEl =\n",
              "        document.querySelector('#' + key + ' button');\n",
              "      quickchartButtonEl.disabled = true;  // To prevent multiple clicks.\n",
              "      quickchartButtonEl.classList.add('colab-df-spinner');\n",
              "      try {\n",
              "        const charts = await google.colab.kernel.invokeFunction(\n",
              "            'suggestCharts', [key], {});\n",
              "      } catch (error) {\n",
              "        console.error('Error during call to suggestCharts:', error);\n",
              "      }\n",
              "      quickchartButtonEl.classList.remove('colab-df-spinner');\n",
              "      quickchartButtonEl.classList.add('colab-df-quickchart-complete');\n",
              "    }\n",
              "    (() => {\n",
              "      let quickchartButtonEl =\n",
              "        document.querySelector('#df-93bc8579-37b3-4278-800f-53e2c3a4f4ae button');\n",
              "      quickchartButtonEl.style.display =\n",
              "        google.colab.kernel.accessAllowed ? 'block' : 'none';\n",
              "    })();\n",
              "  </script>\n",
              "</div>\n",
              "\n",
              "    </div>\n",
              "  </div>\n"
            ],
            "application/vnd.google.colaboratory.intrinsic+json": {
              "type": "dataframe",
              "variable_name": "final_df",
              "summary": "{\n  \"name\": \"final_df\",\n  \"rows\": 77234,\n  \"fields\": [\n    {\n      \"column\": \"ApplicationNumber\",\n      \"properties\": {\n        \"dtype\": \"string\",\n        \"num_unique_values\": 51969,\n        \"samples\": [\n          \"US20230286398\",\n          \"US20220880062\",\n          \"US20170999534\"\n        ],\n        \"semantic_type\": \"\",\n        \"description\": \"\"\n      }\n    },\n    {\n      \"column\": \"Titles\",\n      \"properties\": {\n        \"dtype\": \"category\",\n        \"num_unique_values\": 37958,\n        \"samples\": [\n          \"endobronchial catheter system and method for rapid diagnosis of lung disease\",\n          \"methods for quality data extraction, alignment, and reporting\",\n          \"image recording apparatus, image recording method, and endoscope system\"\n        ],\n        \"semantic_type\": \"\",\n        \"description\": \"\"\n      }\n    },\n    {\n      \"column\": \"Abstracts\",\n      \"properties\": {\n        \"dtype\": \"string\",\n        \"num_unique_values\": 43470,\n        \"samples\": [\n          \"the inventive film clamping element ) is held by a lip ring ) and a vestibular ring , between which and possibly beyond which a film ) extends. the film ) and also the rings ) are elastically deformable, and it is provided that the film ) comprises an attachment ) each at two positions opposite one another. between these attachments , at least one elastic band ) extends which is suitable to constrict the film ) radially towards the inside.\",\n          \"a method of treating one of fractures and disfunctions of a pelvic ring of a patient comprising scanning a patient with a transdermal scan, determining, via a machine, from the scan an optimal range of angles of entry and sizes of screw to insert into the patient, communicating the optimal range to a surgeon, and inserting the screw into the patient.\",\n          \"a polymeric compound is disclosed herein, having the general formula i: view embedded image wherein m, n, x, y, z and l are as defined herein. further disclosed herein are lipid bilayers comprising at least one bilayer-forming lipid and the aforementioned polymeric compound, and liposomes comprising such a bilayer, as well as methods, uses and compositions utilizing such bilayers andor liposomes for reducing a friction coefficient of a surface andor for inhibiting biofilm formation.\"\n        ],\n        \"semantic_type\": \"\",\n        \"description\": \"\"\n      }\n    },\n    {\n      \"column\": \"Claims\",\n      \"properties\": {\n        \"dtype\": \"string\",\n        \"num_unique_values\": 76451,\n        \"samples\": [\n          \". a method for determining a navigation pathway for navigating an invasive medical instrument inside a blood vessel, the method comprising: receiving, by a processor, a first medical image associated with a patient, the first medical image acquired during a first medical imaging procedure; determining, by the processor, one or more parameters associated with the first medical image; identifying, by the processor, a second medical image from a plurality of images associated with the patient based on the determined one or more parameters, the second medical image acquired during a second medical imaging procedure performed prior to the first medical imaging procedure; determining, by the processor, deviation between a structural orientation of one or more objects in the first medical image and one or more objects in the second medical image; modifying, by the processor, the second medical image based on deviation between the structural orientation of the one or more objects in the first medical image and the one or more objects in the second medical image; and determining, by the processor, the navigation pathway for navigating the invasive medical instrument inside the blood vessel using the second medical image; wherein the navigation pathway corresponds to the modified structural orientation of the one or more objects in the second medical image . the method of claim , wherein the one or more parameters associated with the first medical image comprises one or more of positions of a patient being imaged, position coordinates associated with an imaging device, angular position of the imaging device, and distance between a patient table and the imaging device . the method of claim , wherein the second medical image is an image obtained from a medical database . the method of claim , wherein identifying the second medical image based on the one or more parameters comprises: identifying, by the processor, one or more medical images based on the one or more parameters associated with the first medical image; identifying, by the processor, one or more objects from the first medical image; identifying, by the processor, one or objects from the one or more medical images; comparing, by the processor, the one or more objects in the first medical image and the one or more objects in the one or more medical images; and determining, by the processor, the second medical image from the one or more medical images based on the comparison . the method of claim , wherein modifying the second medical image based on the first medical image comprises: determining, by the processor, a structural orientation of the one or more objects in the first medical image; determining, by the processor, a structural orientation of one or more objects in the second medical image; identifying, by the processor, a deviation between the structural orientation of the one or more objects in the first medical image and the one or more objects in the second medical image; and correcting, by the processor, the structural orientation of the one or more objects in the second medical image based on the structural orientation of the one or more objects in the first medical image if the deviation is identified . the method of claim , further comprising: calibrating, by the processor, one or more subsequent medical images based on the modified second medical image, wherein the one or more subsequent medical images are acquired by an imaging device after acquisition of the second medical image by the imaging device; and determining, by the processor, from the calibrated one or more subsequent medical images a critical point in the navigation pathway in the blood vessel, by the processor . the method of claim , further comprising: determining, by the processor, whether a new medical image is to be acquired by the imaging device based on the identification of the critical point in the navigation pathway . the method of claim , wherein calibrating the one or more subsequent medical images based on the modified second medical image comprises: determining, by the processor, the structural orientation of one or more objects in the one or more subsequent medical images; determining, by the processor, the structural orientation of one or more objects in the modified second medical image; identifying, by the processor, a deviation between the structural orientation of the one or more objects in the one or more subsequent medical images and the one or more objects in the modified second medical image; and correcting, by the processor, the structural orientation of the one or more objects in the one or more subsequent medical images based on the structural orientation of the one or more objects in the modified second medical image if a deviation is identified . the method of claim , wherein the first medical image is received from an imaging device andor a medical database . a system for determining a navigation pathway for navigating an invasive medical instrument inside a blood vessel, the system comprising: a processor; a medical database coupled to the processor; a memory coupled to the processor, the memory comprising a navigation module configured to: receive a first medical image associated with a patient; determine one or more parameters associated with the first medical image; identify a second medical image from a plurality of images associated with the patient based on the determined one or more parameters, the second medical image acquired during a medical imaging procedure prior to an acquisition of the first medical image; determine deviation between a structural orientation of one or more objects in the first medical image and one or more objects in the second medical image; modify the second medical image based on deviation between the structural orientation of the one or more objects in the first medical image and the one or more objects in the second medical image; and determine the navigation pathway for navigating the invasive medical instrument inside the blood vessel using the second medical image; wherein the navigation pathway corresponds to the modified structural orientation of the one or more objects in the second medical image . the system of claim , further comprising: a patient table; and an imaging device; wherein the one or more parameters associated with the first medical image comprises one or more of positions of a patient being imaged, position coordinates associated with the imaging device, angular position of the imaging device, and distance between the patient table and the imaging device . the system of claim , wherein the second medical image is an image obtained from the medical database . the system of claim , wherein the navigation module is configured to: identify one or more medical images based on the one or more parameters associated with the first medical image; identify one or more objects from the first medical image; identify one or objects from the one or more medical images; compare the one or more objects in the first medical image and the one or more objects in the one or more medical images; and determine the second medical image from the one or more medical images based on the comparison . the system of claim , wherein the navigation module is configured to: determine a structural orientation of the one or more objects in the first medical image; determine a structural orientation of one or more objects in the second medical image; determine a deviation between the structural orientation of the one or more objects in the first medical image and the one or more objects in the second medical image; and correct the structural orientation of the one or more objects in the second medical image based on the structural orientation of the one or more objects in the first medical image if the deviation is identified . the system of claim , wherein the navigation module is configured to: calibrate one or more subsequent medical images based on the modified second medical image, wherein the one or more subsequent medical images are acquired by an imaging device after acquisition of the second medical image by an imaging device; and determine from the calibrated one or more subsequent medical images a critical point in the navigation pathway in the blood vessel . the system of claim , wherein the navigation module is configured to: determine whether a new medical image is to be acquired by the imaging device based on the identification of the critical point in the navigation pathway . a non-transitory computer implemented storage medium that stores machine-readable instructions executable by at least one processor determining a navigation pathway for navigating an invasive medical instrument inside a blood vessel, the machine-readable instructions comprising: receiving a first medical image associated with a patient, the first medical image acquired during a first medical imaging procedure; determining one or more parameters associated with the first medical image; identifying a second medical image from a plurality of images associated with the patient based on the determined one or more parameters, the second medical image acquired during a second medical imaging procedure prior to the first medical imaging procedure; determining deviation between a structural orientation of one or more objects in the first medical image and one or more objects in the second medical image; modifying the second medical image based on deviation between the structural orientation of the one or more objects in the first medical image and the one or more objects in the second medical image; and determining the navigation pathway for navigating the invasive medical instrument inside the blood vessel using the second medical image; wherein the navigation pathway corresponds to the modified structural orientation of the one or more objects in the second medical image.\",\n          \" . an imaging system comprising: an imaging optical system; an imaging element having a two-dimensional pixel array; a drive unit that drives at least one of a focus lens included in the imaging optical system and the imaging element; and a processor comprising hardware, wherein the processor is configured to: select an integrated point spread function that is used for image generation from among a plurality of integrated point spread functions; and generate an image using the selected integrated point spread function . the imaging system according to claim , wherein the processor is configured to: select a drive pattern which the drive unit uses during the exposure period of the imaging element from among a plurality of drive patterns; and select an integrated point spread function that corresponds to the selected drive pattern . the imaging system according to claim , wherein the selected drive pattern causes the drive speed to change during the exposure period of the imaging element . the imaging system according to claim , further comprising an illumination unit that emits light having at least one wavelength so as to illuminate a subject, wherein the processor is configured to select an integrated point spread function that corresponds to the wavelength of the light emitted from the illumination unit . the imaging system according to claim , wherein the processor is configured to: select the wavelength of the light emitted from the illumination unit; and select the integrated point spread function that corresponds to the selected wavelength of the light . the imaging system according to claim , wherein the illumination unit emits light having two or more wavelengths so as to illuminate the subject, and the processor is configured to select the integrated point spread functions that correspond to the two or more wavelengths of the light emitted from the illumination unit . a processing apparatus comprising: a processor comprising hardware, wherein the processor is configured to: select an integrated point spread function that is used for image generation from among a plurality of integrated point spread functions; and generate an image using the selected integrated point spread function . the processing apparatus according to claim , wherein the processor is configured to select an integrated point spread function that corresponds to a drive pattern for driving at least one of a focus lens and an imaging element during an exposure period . the processing apparatus according to claim , wherein the drive pattern causes the drive speed to change during the exposure period . the processing apparatus according to claim , wherein the processor is configured to select the integrated point spread function that corresponds to the wavelength of light emitted from an illumination unit that illuminates a subject . the processing apparatus according to claim , wherein the processor is configured to generate an image obtained by restoring an endoscopic image captured by an endoscope by the integration point spread function . an endoscope comprising: an imaging optical system; an imaging element that has a two-dimensional pixel array; and a drive unit that is capable of driving at least one of a focus lens included in the imaging optical system and the imaging element during the exposure period of the imaging element . the endoscope according to claim , wherein the drive unit is capable of driving at least one of the focus lens and the imaging element in a drive pattern that causes the drive speed to change during the exposure period of the imaging element.\",\n          \" (canceled (canceled . a garment for real time detection of body deformation during an image scan, comprising: a front portion, made of a compression material and having a plurality of plurality of fiber bragg gratings (fbgs , the front portion disposed on top of a body, the fbgs aligned along a predetermined coordinate system; a plurality of light emitters, each light emitter configured to pulse light waves through a corresponding fbgs; a plurality of light sensors, each light sensor attached to a corresponding fbg and configured to receive pulsed light waves; and a processor including: a data acquisition module configured to receive from the light sensors peak wavelengths reflected by the fbg; a comparator configured to determine the effective shifts of bragg wavelengths due to axial strain on the fbgs, and a controller configured to control the movement of the body through a cavity in a scanning device and to control the acquisition of image data during body deformation based on the effective shifts of the bragg wavelengths of the fbgs (canceled (canceled (canceled . a garment for real time detection of body deformation during external beam treatment, comprising: a front portion, made of a compression material and having a plurality of fiber bragg gratings (fbgs , the front portion disposed on top of a body, the fbgs aligned along a predetermined coordinate system; a plurality of light emitters, each light emitter configured to pulse light waves through a corresponding fbgs; a plurality of light sensors, each light sensor attached to a corresponding fbg and configured to receive pulsed light waves; and a processor including: a data acquisition module configured to receive from the light sensors peak wavelengths reflected by the fbg; a comparator configured to determine the effective shifts of bragg wavelengths due to axial strain on the fbgs, and a controller configured to control the movement of the body through a cavity in a scanning device and to control an external beam treatment during the body deformation based on the effective shifts of the bragg wavelengths of the fbgs . the garment of claim  wherein the predetermined coordinate system is a cartesian coordinate system . the garment of claim  wherein the fbgs are aligned along the cartesian coordinate system to measure strain along dual-axis . the garment of claim  wherein the processor further includes a correction module configured to correct acquired image data to compensate for body deformation during an image scan based on the effective shifts of the bragg wavelengths of the fbgs aligned along the predetermined coordinate system . the garment of claim  wherein the processor further include an image acquisition module configured to acquire image data from a computed tomography (ct) scan, magnetic resonance imaging (mm) scan, positron emission tomography (pet) scan, or single photon emission computed tomography (spect) scan . the garment of claim  wherein the garment is a belt . the garment of claim  wherein the garment is a shirt . the garment of claim  wherein the predetermined coordinate system is a cartesian coordinate system . the garment of claim  wherein the fbgs are aligned along the cartesian coordinate system to measure strain along dual-axis. wherein the fbgs are aligned along the cartesian coordinate system to measure strain along dual-axis . the garment of claim  wherein the external beam treatment is external photon beam radiotherapy or proton beam therapy . the garment of claim  wherein the processor further include an image acquisition module configured to acquire image data from a computed tomography (ct) scan, magnetic resonance imaging (mm) scan, positron emission tomography (pet) scan, or single photon emission computed tomography (spect) scan . the garment of claim  wherein the garment is a belt . the garment of claim  wherein the garment is a shirt . a garment for real time detection of body deformation during an image scan, comprising: a front portion, made of a compression material and having a plurality of plurality of fiber bragg gratings (fbgs , the front portion disposed on top of a body, the fbgs aligned along a predetermined coordinate system; a light emitter configured to pulse light waves through a first end of a series of fbgs; a light sensor attached to a fbg and configured to receive pulsed light waves through the series of fbgs; and a processor including: a data acquisition module configured to receive from the light sensor peak wavelengths reflected by the fbg; a comparator configured to determine the effective shifts of bragg wavelengths due to axial strain on the fbgs, and a controller configured to control the movement of the body through a cavity in a scanning device and to control the acquisition of image data during body deformation based on the effective shifts of the bragg wavelengths of the fbgs . a garment for real time detection of body deformation during external beam treatment, comprising: a front portion, made of a compression material and having a plurality of plurality of fiber bragg gratings (fbgs) disposed in a single mode optical fiber, the front portion disposed on top of a body, the fbgs aligned along a predetermined coordinate system; a light emitter configured to pulse light waves through a first end of the single mode optical fiber; a light sensor attached to a fbg and configured to receive pulsed light waves through the series of fbgs in the single mode optical fiber; and a processor including: a data acquisition module configured to receive from the light sensor peak wavelengths reflected by the fbgs; a comparator configured to determine the effective shifts of bragg wavelengths due to axial strain on the fbgs, and a controller configured to control the movement of the body through a cavity in a scanning device and to control an external beam treatment during the body deformation based on the effective shifts of the bragg wavelengths of the fbgs . the garment of claim  wherein the processor further includes a correction module configured to re-direct an external beam treatment to compensate for body deformation during a treatment procedure based on the effective shifts of the bragg wavelengths of the fbgs aligned along the predetermined coordinate system to maintain focus on the target region . the garment of claim  wherein the processor further includes a correction module configured to correct acquired image data to compensate for body deformation during an image scan based on the effective shifts of the bragg wavelengths of the fbgs aligned along the predetermined coordinate system . the garment of claim  wherein the processor further includes a correction module configured to re-direct an external beam treatment to compensate for body deformation during a treatment procedure based on the effective shifts of the bragg wavelengths of the fbgs aligned along the predetermined coordinate system to maintain focus on the target region.\"\n        ],\n        \"semantic_type\": \"\",\n        \"description\": \"\"\n      }\n    },\n    {\n      \"column\": \"IPCs\",\n      \"properties\": {\n        \"dtype\": \"string\",\n        \"num_unique_values\": 43507,\n        \"samples\": [\n          \"['A61M16/04', 'G16H40/63']\",\n          \"['A61B1/00', 'A61B17/00', 'A61B17/068', 'A61B17/32', 'A61B34/10', 'A61F5/00', 'G05B19/4155', 'G06F18/21', 'G06N20/00', 'G06V10/70', 'G06V20/40']\",\n          \"['A61B5/00', 'A61B5/20', 'A61B8/00', 'A61B8/08', 'G01F1/66', 'G01F15/075']\"\n        ],\n        \"semantic_type\": \"\",\n        \"description\": \"\"\n      }\n    },\n    {\n      \"column\": \"CPCs\",\n      \"properties\": {\n        \"dtype\": \"string\",\n        \"num_unique_values\": 40945,\n        \"samples\": [\n          \"['A61B1/00096', 'A61B1/0011', 'A61B1/00154', 'A61B1/051', 'A61B1/07', 'A61B1/317', 'A61B17/3415', 'A61B17/3496', 'A61B2090/3614']\",\n          \"['A61B1/00087', 'A61B1/018', 'A61B17/0686', 'A61B17/072', 'A61B17/07207', 'A61B2017/003', 'A61B2017/0034', 'A61B2017/00367', 'A61B2017/07257', 'A61B2017/07285', 'A61B2017/2936', 'A61B2017/2943', 'A61B2017/2944', 'A61B2017/2946']\",\n          \"['A61B1/00135', 'A61B1/307', 'A61B17/3421', 'A61B18/1485', 'A61B18/149', 'A61B2017/00274', 'A61B2017/0046', 'A61B2017/00477', 'A61B2017/3445', 'A61B2017/345', 'A61B2018/00208', 'A61B2018/00982', 'A61B2018/144', 'A61B2090/064', 'A61B2217/005', 'A61B2217/007', 'A61B2218/002', 'A61B2218/007', 'A61M1/77', 'A61M25/01']\"\n        ],\n        \"semantic_type\": \"\",\n        \"description\": \"\"\n      }\n    },\n    {\n      \"column\": \"ProbablePatentAssignee\",\n      \"properties\": {\n        \"dtype\": \"category\",\n        \"num_unique_values\": 9395,\n        \"samples\": [\n          \"UNIV OF NORTH CAROLINA AT CHARLOTTE\",\n          \"MAS MED GLOBAL LTD\",\n          \"IMASONIC\"\n        ],\n        \"semantic_type\": \"\",\n        \"description\": \"\"\n      }\n    },\n    {\n      \"column\": \"EarliestPriorityDate\",\n      \"properties\": {\n        \"dtype\": \"date\",\n        \"min\": \"2015-01-02 00:00:00\",\n        \"max\": \"2024-08-30 00:00:00\",\n        \"num_unique_values\": 2683,\n        \"samples\": [\n          \"2020-03-21 00:00:00\",\n          \"2020-10-19 00:00:00\",\n          \"2016-07-11 00:00:00\"\n        ],\n        \"semantic_type\": \"\",\n        \"description\": \"\"\n      }\n    },\n    {\n      \"column\": \"claim_length\",\n      \"properties\": {\n        \"dtype\": \"number\",\n        \"std\": 610,\n        \"min\": 12,\n        \"max\": 13540,\n        \"num_unique_values\": 3661,\n        \"samples\": [\n          1768,\n          528,\n          449\n        ],\n        \"semantic_type\": \"\",\n        \"description\": \"\"\n      }\n    },\n    {\n      \"column\": \"abstract_length\",\n      \"properties\": {\n        \"dtype\": \"number\",\n        \"std\": 37,\n        \"min\": 8,\n        \"max\": 519,\n        \"num_unique_values\": 321,\n        \"samples\": [\n          18,\n          154,\n          219\n        ],\n        \"semantic_type\": \"\",\n        \"description\": \"\"\n      }\n    }\n  ]\n}"
            }
          },
          "metadata": {},
          "execution_count": 132
        }
      ]
    },
    {
      "cell_type": "code",
      "source": [
        "ApplicationNumber_counts = final_df['ApplicationNumber'].value_counts()\n",
        "repeating_ApplicationNumber = ApplicationNumber_counts[ApplicationNumber_counts > 1].index\n",
        "repeating = final_df[final_df['ApplicationNumber'].isin(repeating_ApplicationNumber)]\n",
        "print(repeating)"
      ],
      "metadata": {
        "colab": {
          "base_uri": "https://localhost:8080/"
        },
        "id": "vTRnevGNCKRo",
        "outputId": "d700e65f-f8c1-4cef-ed3c-1dfeafcbaced"
      },
      "execution_count": 133,
      "outputs": [
        {
          "output_type": "stream",
          "name": "stdout",
          "text": [
            "      ApplicationNumber                                             Titles  \\\n",
            "0         US20170853637  systems and methods for generating interactive...   \n",
            "1         US20200843969  systems and methods for generating interactive...   \n",
            "4         US20170853637  systems and methods for generating interactive...   \n",
            "5         US20200843969  systems and methods for generating interactive...   \n",
            "6         US20220662328  ultrasound diagnostic apparatus, control metho...   \n",
            "...                 ...                                                ...   \n",
            "77225     US20210147599  system and method for monitoring offset during...   \n",
            "77226     US20210147599  system and method for monitoring offset during...   \n",
            "77228     US20170691087  robotic device with compact joint design and a...   \n",
            "77229     US20170691087  robotic device with compact joint design and a...   \n",
            "77232     US20220919593  follow-up form management method applied to he...   \n",
            "\n",
            "                                               Abstracts  \\\n",
            "0      systems and methods are provided for generatin...   \n",
            "1      systems and methods are provided for generatin...   \n",
            "4      systems and methods are provided for generatin...   \n",
            "5      systems and methods are provided for generatin...   \n",
            "6      an ultrasound diagnostic apparatus including a...   \n",
            "...                                                  ...   \n",
            "77225  surgical systems and methods for tracking phys...   \n",
            "77226  surgical systems and methods for tracking phys...   \n",
            "77228  the embodiments disclosed herein relate to var...   \n",
            "77229  the embodiments disclosed herein relate to var...   \n",
            "77232  a follow-up form management method applied to ...   \n",
            "\n",
            "                                                  Claims  \\\n",
            "0      . a computerized system for generating hyperme...   \n",
            "1      . a mobile device comprising: at least one sto...   \n",
            "4       . a computerized system for generating hyperm...   \n",
            "5       (canceled . a mobile device comprising: at le...   \n",
            "6      . an ultrasound diagnostic apparatus that tran...   \n",
            "...                                                  ...   \n",
            "77225  . a method of navigating a surgical instrument...   \n",
            "77226   . a method of navigating a surgical instrumen...   \n",
            "77228  . a robotic device comprising (a) an elongate ...   \n",
            "77229   . a robotic device comprising (a) an elongate...   \n",
            "77232  . a follow-up form management method applied t...   \n",
            "\n",
            "                                                    IPCs  \\\n",
            "0      ['G06F16/30', 'G06F16/93', 'G06F21/62', 'G06F3...   \n",
            "1      ['G06F16/00', 'G06F16/93', 'G06F21/62', 'G06F3...   \n",
            "4      ['G06F17/30', 'G06F21/62', 'G06F3/048', 'G16H1...   \n",
            "5      ['G06F16/93', 'G06F21/62', 'G06F3/048', 'G06Q1...   \n",
            "6                   ['A61B8/00', 'A61B8/06', 'A61B8/08']   \n",
            "...                                                  ...   \n",
            "77225  ['A61B17/00', 'A61B17/15', 'A61B17/17', 'A61B3...   \n",
            "77226  ['A61B17/15', 'A61B17/17', 'A61B34/10', 'A61B3...   \n",
            "77228  ['A61B34/30', 'A61B34/37', 'B25J9/00', 'B25J9/...   \n",
            "77229                          ['A61B34/30', 'B25J9/00']   \n",
            "77232  ['G06F3/0482', 'G06F40/174', 'G06F40/186', 'G1...   \n",
            "\n",
            "                                                    CPCs  \\\n",
            "0      ['G06F16/94', 'G06F21/6245', 'G06F3/048', 'G06...   \n",
            "1      ['G06F16/94', 'G06F21/6245', 'G06F3/048', 'G06...   \n",
            "4      ['G06F16/94', 'G06F21/6245', 'G06F3/048', 'G06...   \n",
            "5      ['G06F16/94', 'G06F21/6245', 'G06F3/048', 'G06...   \n",
            "6      ['A61B8/06', 'A61B8/488', 'A61B8/5207', 'A61B8...   \n",
            "...                                                  ...   \n",
            "77225  ['A61B17/15', 'A61B17/16', 'A61B17/1703', 'A61...   \n",
            "77226  ['A61B17/15', 'A61B17/16', 'A61B17/1703', 'A61...   \n",
            "77228  ['A61B2034/305', 'A61B34/30', 'A61B34/37', 'B2...   \n",
            "77229  ['A61B2034/305', 'A61B34/30', 'A61B34/37', 'B2...   \n",
            "77232  ['G06F16/31', 'G06F3/0482', 'G06F40/174', 'G06...   \n",
            "\n",
            "              ProbablePatentAssignee EarliestPriorityDate  claim_length  \\\n",
            "0      TELETRACKING TECHNOLOGIES INC           2016-12-23          1590   \n",
            "1      TELETRACKING TECHNOLOGIES INC           2016-12-23          1198   \n",
            "4      TELETRACKING TECHNOLOGIES INC           2016-12-23          1362   \n",
            "5      TELETRACKING TECHNOLOGIES INC           2016-12-23          1191   \n",
            "6        KONICA MINOLTA HOLDINGS INC           2021-05-17          1264   \n",
            "...                              ...                  ...           ...   \n",
            "77225                   STRYKER CORP           2020-01-13          2048   \n",
            "77226                   STRYKER CORP           2020-01-13          2049   \n",
            "77228                  UNIV NEBRASKA           2016-08-30          1458   \n",
            "77229                  UNIV NEBRASKA           2016-08-30          1257   \n",
            "77232    BOE TECHNOLOGY GROUP CO LTD           2020-09-30          2885   \n",
            "\n",
            "       abstract_length  \n",
            "0                  139  \n",
            "1                  139  \n",
            "4                  139  \n",
            "5                  139  \n",
            "6                  132  \n",
            "...                ...  \n",
            "77225               74  \n",
            "77226               74  \n",
            "77228               52  \n",
            "77229               52  \n",
            "77232              147  \n",
            "\n",
            "[50512 rows x 10 columns]\n"
          ]
        }
      ]
    },
    {
      "cell_type": "code",
      "source": [
        "print(f\"Number of unique Application no's: {len(final_df.ApplicationNumber.unique())}\")\n",
        "print(f\"Number of unique Abstracts: {len(final_df.Abstracts.unique())}\")\n",
        "print(f\"Number of unique Claims: {len(final_df.Claims.unique())}\")"
      ],
      "metadata": {
        "colab": {
          "base_uri": "https://localhost:8080/"
        },
        "id": "kzSN01ARBVdb",
        "outputId": "562cc87a-8d4d-4437-d78b-59963fece691"
      },
      "execution_count": 134,
      "outputs": [
        {
          "output_type": "stream",
          "name": "stdout",
          "text": [
            "Number of unique Application no's: 51969\n",
            "Number of unique Abstracts: 43470\n",
            "Number of unique Claims: 76451\n"
          ]
        }
      ]
    },
    {
      "cell_type": "code",
      "source": [
        "final_df = final_df.sort_values(by=\"claim_length\", ascending=False)\n",
        "final_df = final_df.drop_duplicates(subset=\"ApplicationNumber\", keep=\"first\")\n",
        "final_df = final_df.drop_duplicates(subset=\"Claims\", keep=\"first\")"
      ],
      "metadata": {
        "id": "ukMKglGWBMYf"
      },
      "execution_count": 135,
      "outputs": []
    },
    {
      "cell_type": "code",
      "source": [
        "print(f\"Number of unique Application no's: {len(final_df.ApplicationNumber.unique())}\")\n",
        "print(f\"Number of unique Abstracts: {len(final_df.Abstracts.unique())}\")\n",
        "print(f\"Number of unique Claims: {len(final_df.Claims.unique())}\")"
      ],
      "metadata": {
        "colab": {
          "base_uri": "https://localhost:8080/"
        },
        "id": "_CSJi16CIfif",
        "outputId": "8e4fe591-5fe5-4503-fe5c-5df43c9cf91f"
      },
      "execution_count": 136,
      "outputs": [
        {
          "output_type": "stream",
          "name": "stdout",
          "text": [
            "Number of unique Application no's: 51626\n",
            "Number of unique Abstracts: 42260\n",
            "Number of unique Claims: 51626\n"
          ]
        }
      ]
    },
    {
      "cell_type": "code",
      "source": [
        "print(f\"Avg. number of words in Claims: {np.mean(final_df.claim_length):.2f}\")\n",
        "print(f\"Avg. number of words in Abstracts: {np.mean(final_df.abstract_length):.2f}\")\n",
        "print(f\"Total number of words in Claims: {final_df.claim_length.sum()}\")\n",
        "print(f\"Total number of words in Abstracts: {final_df.abstract_length.sum()}\")"
      ],
      "metadata": {
        "colab": {
          "base_uri": "https://localhost:8080/"
        },
        "id": "4KlzjjrAB6dP",
        "outputId": "e6576464-c322-439b-bef0-3b9dcb555282"
      },
      "execution_count": 137,
      "outputs": [
        {
          "output_type": "stream",
          "name": "stdout",
          "text": [
            "Avg. number of words in Claims: 1169.93\n",
            "Avg. number of words in Abstracts: 113.38\n",
            "Total number of words in Claims: 60398603\n",
            "Total number of words in Abstracts: 5853327\n"
          ]
        }
      ]
    },
    {
      "cell_type": "code",
      "source": [
        "#sample inspection of claim length and content\n",
        "sample = final_df.loc[1,'Claims']\n",
        "sample"
      ],
      "metadata": {
        "colab": {
          "base_uri": "https://localhost:8080/",
          "height": 143
        },
        "id": "hdGjVCLeIpAC",
        "outputId": "b26eb34a-7036-4218-84fe-10bb4f31c848"
      },
      "execution_count": 138,
      "outputs": [
        {
          "output_type": "execute_result",
          "data": {
            "text/plain": [
              "'. a mobile device comprising: at least one storage device storing a set of instructions; and at least one processor coupled to the at least one storage device, the set of instructions configuring the at least one processor to: transmit a request for information about an individual; receive a hypermedia element comprising an authentication form; transmit authentication information captured through the authentication form; receive instructions to display a first graphical user interface, the first graphical user interface comprising a hypermedia icon comprising an avatar, a hypermedia element comprising current status data, and a hypermedia element comprising available actions; transmit a request for a location of the individual, the request for the location of the individual comprising a mobile device location; receive a message indicating that a relative of the individual is undergoing a procedure; and after receiving the message, receive instructions to display a second graphical user interface comprising: a list of activities within a predetermined proximity of the mobile device; and a recommendation based on a duration of the procedure . the mobile device of claim , where the recommendation is further based on: the mobile device location; and preferences stored in the at least one storage device . the mobile device of claim , wherein transmitting authentication information comprises transmitting mobile device display information, the mobile device display information comprising screen size, screen resolution, operating system, and navigation conditions . the mobile device of claim , wherein the at least one processor is further configured to: receive a hypermedia element comprising a navigation route from the mobile device location to the location of the individual . the mobile device of claim , wherein the at least one processor is further configured to: transmit a request for documents associated with the individual; receive a hypermedia element comprising a document preferences form; transmit document preferences information captured through the preferences form; receive instructions to display a third graphical user interface comprising a hypermedia element displaying a list of relevant documents; transmit a document selection via the hypermedia element displaying the list of relevant documents; and receive a selected document . the mobile device of claim , wherein the at least one processor is further configured to: transmit a request for events associated with the individual; and receive instructions to display a third graphical user interface comprising a plurality of hypermedia elements representing a list of events associated with the individual . the mobile device of claim , wherein each one of the plurality of hypermedia elements comprises a description and a time stamp . the mobile device of claim , wherein the first graphical user interface further comprises an actions section comprising a contact icon, an activities icon, a literature icon, and a messaging icon . the mobile device of claim , wherein the second graphical user interface displays the list of activities in two groups comprising: a first group of activities nearby displayed in the top of the second graphical user interface; and a second group of other activities displayed in the bottom of the second graphical user interface . the mobile device of claim , wherein for each activity in the list of activities the second graphical user interface displays an identification icon, an activity identification, and associated information . the mobile device of claim , wherein the second graphical user interface further comprises: a timer displaying an estimated duration of the procedure; and the hypermedia icon comprising the avatar modified to display a smaller version of the avatar . a non-transitory computer readable medium storing instructions that, when executed, cause one or more processors to perform operations comprising: transmitting a request for information about an individual; receiving a hypermedia element comprising an authentication form; transmitting authentication information captured through the authentication form; receiving instructions to display a first graphical user interface, the first graphical user interface comprising a hypermedia icon comprising an avatar, a hypermedia element comprising current status data, and a hypermedia element comprising available actions; transmitting a request for a location of the individual, the request for the location of the individual comprising a location of a mobile device; receiving a message indicating that a relative of the individual is undergoing a procedure; and after receiving the message, receiving instructions to display a second graphical user interface comprising: a list of activities within a predetermined proximity of the mobile device; and a recommendation based on a duration of the procedure . the medium of claim , wherein transmitting authentication information comprises transmitting mobile device display information, the mobile device display information comprising screen size, screen resolution, operating system, and navigation conditions . the medium of claim , wherein the operations further comprise: receiving a hypermedia element comprising a navigation route from the location of the mobile to the location of the individual . the medium of claim , wherein the operations further comprise: transmitting a request for documents associated with the individual; receiving a hypermedia element comprising a document preferences form; transmitting document preferences information captured through the preferences form; receiving instructions to display a third graphical user interface comprising a hypermedia element displaying a list of relevant documents; transmitting a document selection via the hypermedia element displaying the list of relevant documents; and receiving a selected document . the medium of claim , wherein the operations further comprise: transmitting a request for events associated with the individual; and receiving instructions to display a third graphical user interface comprising a plurality of hypermedia elements representing a list of events associated with the individual . the medium of claim , wherein each one of the plurality of hypermedia elements comprises a description and a time stamp . the medium of claim , wherein the second graphical user interface displays the list of activities in two groups comprising: a first group of activities nearby displayed in the top of the second graphical user interface; and a second group of other activities displayed in the bottom of the second graphical user interface . the medium of claim , wherein the second graphical user interface further comprises: a timer displaying an estimated duration of the procedure; and the hypermedia icon comprising the avatar modified to display a smaller version of the avatar . a computer implemented method comprising: transmitting a request for information about an individual; receiving a hypermedia element comprising an authentication form; transmitting authentication information captured through the authentication form; after transmitting the authentication information, receiving instructions to display a first graphical user interface, the first graphical user interface comprising a hypermedia icon comprising an avatar, a hypermedia element comprising current status data, and a hypermedia element comprising available actions; after receiving instructions to display the first graphical user interface, transmitting a request for a location of the individual, the request for the location of the individual comprising a location of a mobile device; after transmitting the request for the location of the individual, receiving a message indicating that a relative of the individual is undergoing a procedure; and after receiving the message, receiving instructions to display a second graphical user interface comprising: a list of activities within a predetermined proximity of the mobile device; and a recommendation based on a duration of the procedure.'"
            ],
            "application/vnd.google.colaboratory.intrinsic+json": {
              "type": "string"
            }
          },
          "metadata": {},
          "execution_count": 138
        }
      ]
    },
    {
      "cell_type": "code",
      "source": [
        "final_df.info()"
      ],
      "metadata": {
        "colab": {
          "base_uri": "https://localhost:8080/"
        },
        "id": "Z27OgoSXI23r",
        "outputId": "6f8b3763-e2e1-4a48-fd1e-5c85c3debb03"
      },
      "execution_count": 139,
      "outputs": [
        {
          "output_type": "stream",
          "name": "stdout",
          "text": [
            "<class 'pandas.core.frame.DataFrame'>\n",
            "Index: 51626 entries, 62878 to 37700\n",
            "Data columns (total 10 columns):\n",
            " #   Column                  Non-Null Count  Dtype         \n",
            "---  ------                  --------------  -----         \n",
            " 0   ApplicationNumber       51626 non-null  object        \n",
            " 1   Titles                  51626 non-null  object        \n",
            " 2   Abstracts               51626 non-null  object        \n",
            " 3   Claims                  51626 non-null  object        \n",
            " 4   IPCs                    51626 non-null  object        \n",
            " 5   CPCs                    51626 non-null  object        \n",
            " 6   ProbablePatentAssignee  51626 non-null  object        \n",
            " 7   EarliestPriorityDate    51626 non-null  datetime64[ns]\n",
            " 8   claim_length            51626 non-null  int64         \n",
            " 9   abstract_length         51626 non-null  int64         \n",
            "dtypes: datetime64[ns](1), int64(2), object(7)\n",
            "memory usage: 6.3+ MB\n"
          ]
        }
      ]
    },
    {
      "cell_type": "markdown",
      "source": [
        "## **EDA**"
      ],
      "metadata": {
        "id": "QUJIf8g5JK4H"
      }
    },
    {
      "cell_type": "markdown",
      "source": [
        "**Word distribution analysi**s"
      ],
      "metadata": {
        "id": "1H4ol3r7KUle"
      }
    },
    {
      "cell_type": "code",
      "source": [
        "sns.histplot(final_df.claim_length, bins = 50)\n",
        "plt.axvline(np.mean(final_df.claim_length), color = \"r\",label = \"Mean\")\n",
        "plt.text(11700, 12500, f\"Max {max(final_df.claim_length)}\")\n",
        "plt.text(11700, 11100, f\"Min {min(final_df.claim_length)}\")\n",
        "plt.text(11700, 11800, f\"Mean {np.mean(final_df.claim_length):.0f}\")\n",
        "plt.title(\"Distribution of words in Claims\")\n",
        "plt.xlabel(\"Number of words\")\n",
        "plt.ylabel(\"Number of Claims\")\n",
        "plt.legend()\n",
        "plt.show()"
      ],
      "metadata": {
        "colab": {
          "base_uri": "https://localhost:8080/",
          "height": 468
        },
        "id": "alxc3O1wI8Cl",
        "outputId": "631fc641-bb28-4623-bc6b-8af45031f3cd"
      },
      "execution_count": 155,
      "outputs": [
        {
          "output_type": "display_data",
          "data": {
            "text/plain": [
              "<Figure size 600x500 with 1 Axes>"
            ],
            "image/png": "[encoded data removed]"
          },
          "metadata": {}
        }
      ]
    },
    {
      "cell_type": "code",
      "source": [
        "sns.histplot(final_df.abstract_length, bins = 50)\n",
        "plt.axvline(np.mean(final_df.abstract_length), color = \"r\", label = \"Mean\")\n",
        "plt.text(440, 10300, f\"Max {max(final_df.abstract_length)}\")\n",
        "plt.text(440, 9200, f\"Min {min(final_df.abstract_length)}\")\n",
        "plt.text(440, 9750, f\"Mean {np.mean(final_df.abstract_length):.0f}\")\n",
        "plt.title(\"Distribution of words in Abstracts\")\n",
        "plt.xlabel(\"Number of words\")\n",
        "plt.ylabel(\"Number of Abstracts\")\n",
        "plt.legend()\n",
        "plt.show()"
      ],
      "metadata": {
        "colab": {
          "base_uri": "https://localhost:8080/",
          "height": 469
        },
        "id": "KtKkhVRZJSlh",
        "outputId": "edb10f6a-ec57-4507-feb1-d91c13b7e182"
      },
      "execution_count": 141,
      "outputs": [
        {
          "output_type": "display_data",
          "data": {
            "text/plain": [
              "<Figure size 600x500 with 1 Axes>"
            ],
            "image/png": "[encoded data removed]"
          },
          "metadata": {}
        }
      ]
    },
    {
      "cell_type": "markdown",
      "source": [
        "**Patent filings analysis Patentee + year**"
      ],
      "metadata": {
        "id": "rd2nZgQoKaif"
      }
    },
    {
      "cell_type": "code",
      "source": [
        "# Distribution if fillings per year\n",
        "final_df['Year'] = final_df['EarliestPriorityDate'].dt.year\n",
        "total_filings_per_year = final_df.groupby('Year')['ApplicationNumber'].count()\n",
        "\n",
        "total_filings_per_year.plot(kind='bar')\n",
        "plt.title('Total Patent Filings per Year')\n",
        "plt.xlabel('Year')\n",
        "plt.ylabel('Number of Filings')\n",
        "plt.xticks(rotation=45)\n",
        "plt.show()"
      ],
      "metadata": {
        "colab": {
          "base_uri": "https://localhost:8080/",
          "height": 483
        },
        "id": "nC_UnZWgJXmI",
        "outputId": "e4021fd7-e3e5-4279-f4c7-e41ed833131f"
      },
      "execution_count": 142,
      "outputs": [
        {
          "output_type": "display_data",
          "data": {
            "text/plain": [
              "<Figure size 600x500 with 1 Axes>"
            ],
            "image/png": "[encoded data removed]"
          },
          "metadata": {}
        }
      ]
    },
    {
      "cell_type": "code",
      "source": [
        "company_patent_counts = final_df.groupby('ProbablePatentAssignee')['ApplicationNumber'].count().reset_index()\n",
        "sorted_companies = company_patent_counts.sort_values(by='ApplicationNumber', ascending=False)\n",
        "top_50_companies = sorted_companies.head(50)\n",
        "\n",
        "top_50_companies.rename(columns={'ApplicationNumber': 'No of applications'}, inplace=True)\n",
        "\n",
        "print(top_50_companies)"
      ],
      "metadata": {
        "colab": {
          "base_uri": "https://localhost:8080/"
        },
        "id": "LHh1YBcMJbGq",
        "outputId": "71dfb734-704b-43a7-def5-2b0eddb6a80f"
      },
      "execution_count": 143,
      "outputs": [
        {
          "output_type": "stream",
          "name": "stdout",
          "text": [
            "                                 ProbablePatentAssignee  No of applications\n",
            "6003                                       OLYMPUS CORP                2053\n",
            "2963                             FUJIFILM HOLDINGS CORP                1524\n",
            "1706                                     CILAG GMBH INT                1453\n",
            "6407                                PHILIPS KONINKLL NV                1392\n",
            "1938                                        COVIDIEN LP                1334\n",
            "1402                                          CANON INC                 990\n",
            "1098                        BIOSENSE WEBSTER ISRAEL LTD                 835\n",
            "4005                  INTUITIVE SURGICAL OPERATIONS INC                 794\n",
            "1226                       BOSTON SCIENTIFIC SCIMED INC                 689\n",
            "7456                            SIEMENS HEALTHINEERS AG                 479\n",
            "744                                    AURIS HEALTH INC                 378\n",
            "5138                                      MEDTRONIC INC                 357\n",
            "3059                        GE PRECISION HEALTHCARE LLC                 347\n",
            "7659                                          SONY CORP                 317\n",
            "8844                                  VERB SURGICAL INC                 315\n",
            "3075                                GENERAL ELECTRIC CO                 304\n",
            "3156                                 GLOBUS MEDICAL INC                 269\n",
            "7829                                       STRYKER CORP                 268\n",
            "8037                                           TDK CORP                 259\n",
            "7096                             SAMSUNG MEDISON CO LTD                 257\n",
            "4858                                 MAKO SURGICAL CORP                 256\n",
            "6005                       OLYMPUS MEDICAL SYSTEMS CORP                 252\n",
            "4443                        KONICA MINOLTA HOLDINGS INC                 246\n",
            "3634                                          HOYA CORP                 238\n",
            "7664                 SONY OLYMPUS MEDICAL SOLUTIONS INC                 233\n",
            "1028                                BFLY OPERATIONS INC                 185\n",
            "4004                      INTUITIVE SURGICAL OPERATIONS                 184\n",
            "3721                                                IBM                 183\n",
            "8121                                        TERUMO CORP                 177\n",
            "832                             BARD ACCESS SYSTEMS INC                 173\n",
            "3296  GYRUS ACMI INC D B A OLYMPUS SURGICAL TECHNOLO...                 172\n",
            "2670                                        ETHICON LLC                 163\n",
            "4285                            KARL STORZ SE AND CO KG                 161\n",
            "386                                ALIGN TECHNOLOGY INC                 161\n",
            "7579                               SMITH AND NEPHEW PLC                 157\n",
            "141                                       ACCLARENT INC                 154\n",
            "1785                                   CMR SURGICAL LTD                 154\n",
            "2174                         DEPUY SYNTHES PRODUCTS INC                 154\n",
            "1218                           BOSTON SCIENT SCIMED INC                 149\n",
            "7661                                    SONY GROUP CORP                 146\n",
            "6010                        OLYMPUS WINTER AND IBE GMBH                 144\n",
            "7950                              SYNAPTIVE MEDICAL INC                 144\n",
            "4950                                 MAZOR ROBOTICS LTD                 142\n",
            "6997                               ROM TECHNOLOGIES INC                 136\n",
            "3632                           HOWMEDICA OSTEONICS CORP                 135\n",
            "8139                             THE UNIV OF CALIFORNIA                 135\n",
            "452                                            AMBU A S                 129\n",
            "5251                                     MICROSOFT CORP                 129\n",
            "7460                  SIEMENS MEDICAL SOLUTIONS USA INC                 123\n",
            "7397    SHENZHEN MINDRAY BIO MEDICAL ELECTRONICS CO LTD                 122\n"
          ]
        },
        {
          "output_type": "stream",
          "name": "stderr",
          "text": [
            "<ipython-input-143-2617e6ab083f>:5: SettingWithCopyWarning: \n",
            "A value is trying to be set on a copy of a slice from a DataFrame\n",
            "\n",
            "See the caveats in the documentation: https://pandas.pydata.org/pandas-docs/stable/user_guide/indexing.html#returning-a-view-versus-a-copy\n",
            "  top_50_companies.rename(columns={'ApplicationNumber': 'No of applications'}, inplace=True)\n"
          ]
        }
      ]
    },
    {
      "cell_type": "markdown",
      "source": [
        "**Classifications codes analysis**\n",
        "\n",
        "---\n",
        "\n"
      ],
      "metadata": {
        "id": "N-disPADJnTG"
      }
    },
    {
      "cell_type": "code",
      "source": [
        "def split_codes(df, col_name):\n",
        "    # Split the codes by delimiter and explode into separate rows\n",
        "    exploded_df = df[col_name].str.split(',', expand=True).stack().reset_index(level=1, drop=True)\n",
        "    exploded_df = exploded_df.str.replace(r\"[\\[\\]']\", \"\", regex=True)\n",
        "    return exploded_df.to_frame(name=col_name)\n",
        "\n",
        "# Create new DataFrames for IPC and CPC codes\n",
        "ipc_df = split_codes(final_df, 'IPCs')\n",
        "cpc_df = split_codes(final_df, 'CPCs')\n",
        "\n",
        "# Display the exploded DataFrames\n",
        "print(\"\\nExploded IPC DataFrame:\")\n",
        "print(ipc_df)\n",
        "\n",
        "print(\"\\nExploded CPC DataFrame:\")\n",
        "print(cpc_df)\n"
      ],
      "metadata": {
        "colab": {
          "base_uri": "https://localhost:8080/"
        },
        "id": "K4UhZ-IwJe6N",
        "outputId": "022f4cda-cbba-4190-f15f-8de06fd49b3d"
      },
      "execution_count": 144,
      "outputs": [
        {
          "output_type": "stream",
          "name": "stdout",
          "text": [
            "\n",
            "Exploded IPC DataFrame:\n",
            "              IPCs\n",
            "62878    A61B34/10\n",
            "62878    A61B34/20\n",
            "32670  A61K31/7105\n",
            "32670    A61M31/00\n",
            "32670    C12N15/11\n",
            "...            ...\n",
            "57347    G06Q10/10\n",
            "57347    G16H40/20\n",
            "37700    A61B34/20\n",
            "37700    A61B34/30\n",
            "37700    A61B50/13\n",
            "\n",
            "[246127 rows x 1 columns]\n",
            "\n",
            "Exploded CPC DataFrame:\n",
            "                 CPCs\n",
            "62878    A61B2034/107\n",
            "62878   A61B2034/2051\n",
            "62878   A61B2034/2055\n",
            "62878   A61B2034/2059\n",
            "62878   A61B2034/2061\n",
            "...               ...\n",
            "37700       A61B34/20\n",
            "37700       A61B34/30\n",
            "37700       A61B50/13\n",
            "37700    A61M2209/084\n",
            "37700    A61M2209/086\n",
            "\n",
            "[812654 rows x 1 columns]\n"
          ]
        }
      ]
    },
    {
      "cell_type": "code",
      "source": [
        "ipc_category_counts = ipc_df['IPCs'].value_counts()\n",
        "cpc_category_counts = cpc_df['CPCs'].value_counts()"
      ],
      "metadata": {
        "id": "L-l7S4t7Jiy4"
      },
      "execution_count": 145,
      "outputs": []
    },
    {
      "cell_type": "code",
      "source": [
        "plot = cpc_category_counts.nlargest(30).plot(kind='bar', figsize=(12, 6))\n",
        "plt.title('Top 30 CPC code occurrences')\n",
        "plt.xlabel('CPC Codes')\n",
        "plt.ylabel('Occurences')\n",
        "plt.xticks(rotation=45)\n",
        "plt.show()"
      ],
      "metadata": {
        "colab": {
          "base_uri": "https://localhost:8080/",
          "height": 618
        },
        "id": "03I_spyjJksj",
        "outputId": "c25d027a-9010-4f64-a4e1-f4cceb7c3b39"
      },
      "execution_count": 146,
      "outputs": [
        {
          "output_type": "display_data",
          "data": {
            "text/plain": [
              "<Figure size 1200x600 with 1 Axes>"
            ],
            "image/png": "[encoded data removed]"
          },
          "metadata": {}
        }
      ]
    },
    {
      "cell_type": "code",
      "source": [
        "plot = ipc_category_counts.nlargest(30).plot(kind='bar', figsize=(12, 6))\n",
        "plt.title('Top 30 IPC code occurrences')\n",
        "plt.xlabel('IPC Codes')\n",
        "plt.ylabel('Occurences')\n",
        "plt.xticks(rotation=45)\n",
        "plt.show()"
      ],
      "metadata": {
        "colab": {
          "base_uri": "https://localhost:8080/",
          "height": 595
        },
        "id": "Yuk9O5Z7KFb-",
        "outputId": "6cc6feb4-2e08-401c-b647-1948bd27a463"
      },
      "execution_count": 147,
      "outputs": [
        {
          "output_type": "display_data",
          "data": {
            "text/plain": [
              "<Figure size 1200x600 with 1 Axes>"
            ],
            "image/png": "[encoded data removed]"
          },
          "metadata": {}
        }
      ]
    },
    {
      "cell_type": "code",
      "source": [
        "final_df.to_csv('/content/drive/MyDrive/Theses/final_patent_text.csv', index=False)"
      ],
      "metadata": {
        "id": "wMfbGK54KH_i"
      },
      "execution_count": 148,
      "outputs": []
    },
    {
      "cell_type": "code",
      "source": [
        "final_df.info()"
      ],
      "metadata": {
        "colab": {
          "base_uri": "https://localhost:8080/"
        },
        "id": "jcvFov4YKKwi",
        "outputId": "8afc5979-8a63-4e4b-a3a4-c9567b03c27d"
      },
      "execution_count": 149,
      "outputs": [
        {
          "output_type": "stream",
          "name": "stdout",
          "text": [
            "<class 'pandas.core.frame.DataFrame'>\n",
            "Index: 51626 entries, 62878 to 37700\n",
            "Data columns (total 11 columns):\n",
            " #   Column                  Non-Null Count  Dtype         \n",
            "---  ------                  --------------  -----         \n",
            " 0   ApplicationNumber       51626 non-null  object        \n",
            " 1   Titles                  51626 non-null  object        \n",
            " 2   Abstracts               51626 non-null  object        \n",
            " 3   Claims                  51626 non-null  object        \n",
            " 4   IPCs                    51626 non-null  object        \n",
            " 5   CPCs                    51626 non-null  object        \n",
            " 6   ProbablePatentAssignee  51626 non-null  object        \n",
            " 7   EarliestPriorityDate    51626 non-null  datetime64[ns]\n",
            " 8   claim_length            51626 non-null  int64         \n",
            " 9   abstract_length         51626 non-null  int64         \n",
            " 10  Year                    51626 non-null  int32         \n",
            "dtypes: datetime64[ns](1), int32(1), int64(2), object(7)\n",
            "memory usage: 6.5+ MB\n"
          ]
        }
      ]
    }
  ]
}
